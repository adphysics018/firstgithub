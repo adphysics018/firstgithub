{
 "cells": [
  {
   "cell_type": "markdown",
   "id": "3f838c4a",
   "metadata": {},
   "source": [
    "# Python ka chilla with baba Aammar\n",
    "## How to use jupyter notebook\n",
    "### Basics of Python\n",
    "## 1- My first program"
   ]
  },
  {
   "cell_type": "code",
   "execution_count": 2,
   "id": "627997b5",
   "metadata": {},
   "outputs": [
    {
     "name": "stdout",
     "output_type": "stream",
     "text": [
      "5\n",
      "Hello world\n",
      "we learning python with Aammar\n"
     ]
    }
   ],
   "source": [
    "print(2+3)\n",
    "print(\"Hello world\")\n",
    "print(\"we learning python with Aammar\")"
   ]
  },
  {
   "cell_type": "markdown",
   "id": "2966742c",
   "metadata": {},
   "source": [
    "### **02-Operators**"
   ]
  },
  {
   "cell_type": "code",
   "execution_count": 3,
   "id": "f79ff0df",
   "metadata": {},
   "outputs": [
    {
     "name": "stdout",
     "output_type": "stream",
     "text": [
      "5\n",
      "2\n",
      "3.0\n",
      "6\n",
      "1\n",
      "3\n",
      "8\n",
      "3.5\n"
     ]
    }
   ],
   "source": [
    "print(2+3)\n",
    "print(3-1)\n",
    "print(6/2)\n",
    "print(2*3)\n",
    "print(13%2)\n",
    "print(6//2)\n",
    "print(2**3)\n",
    "\n",
    "print(3**2/2/3+6-4)\n"
   ]
  },
  {
   "cell_type": "markdown",
   "id": "f0b09178",
   "metadata": {},
   "source": [
    "PEMDAS\n",
    "#Parenthesis Exponents Multiply Divide Addition Subtraction\n",
    "#left to right sequence for M D & A S"
   ]
  },
  {
   "cell_type": "markdown",
   "id": "0d303dbd",
   "metadata": {},
   "source": [
    "### **03-Strings**"
   ]
  },
  {
   "cell_type": "code",
   "execution_count": 4,
   "id": "9f0a9796",
   "metadata": {},
   "outputs": [
    {
     "name": "stdout",
     "output_type": "stream",
     "text": [
      "Hello world\n",
      "we learning python with Aammar\n",
      "Test for single quotes\n",
      "test for double quotes\n",
      " test for triple quotes\n",
      "what's up  ?\n"
     ]
    }
   ],
   "source": [
    "print(\"Hello world\")\n",
    "print(\"we learning python with Aammar\")\n",
    "print('Test for single quotes')\n",
    "print(\"test for double quotes\")\n",
    "print(''' test for triple quotes''')\n",
    "\n",
    "print(\"what's up  ?\")\n"
   ]
  },
  {
   "cell_type": "markdown",
   "id": "528cc2fe",
   "metadata": {},
   "source": [
    "### **04-Comments**"
   ]
  },
  {
   "cell_type": "code",
   "execution_count": 5,
   "id": "2ba8258c",
   "metadata": {},
   "outputs": [
    {
     "name": "stdout",
     "output_type": "stream",
     "text": [
      "how are you\n",
      "we are learning python with Aammar\n",
      "8\n"
     ]
    }
   ],
   "source": [
    "print(\"how are you\")                            #press these to comment our ctrl+/\n",
    "print(\"we are learning python with Aammar\")    # print a string\n",
    "print(2+6)                                     #print operators function with numners"
   ]
  },
  {
   "cell_type": "markdown",
   "id": "79d5c44d",
   "metadata": {},
   "source": [
    "### **05-Variables**"
   ]
  },
  {
   "cell_type": "markdown",
   "id": "8949e21e",
   "metadata": {},
   "source": [
    "print_type_class\n",
    "\n",
    "Rules to assign a variable\n",
    "\n",
    "1- the variable should contain letters, numners or underscores\n",
    "\n",
    "2- do not start with numbers\n",
    "\n",
    "3- spaces are not allowed\n",
    "\n",
    "4-do not use keywords used in functions( break, mean, media, test etc.)\n",
    "\n",
    "5- short and descriptive\n",
    "\n",
    "6- case senstivity (lowercase , uppercase letters,lowercase letter should be used)"
   ]
  },
  {
   "cell_type": "code",
   "execution_count": 6,
   "id": "ec76d023",
   "metadata": {},
   "outputs": [
    {
     "name": "stdout",
     "output_type": "stream",
     "text": [
      "5\n",
      "we are learning python with Aammar\n",
      "15\n",
      "<class 'int'>\n",
      "Mangoes, Oranges\n",
      "<class 'str'>\n"
     ]
    }
   ],
   "source": [
    "#variables: objects containing specific values\n",
    "x=5  #numeric or integer variable\n",
    "print(x)\n",
    "\n",
    "y=\"we are learning python with Aammar\"   # string variable\n",
    "print(y)\n",
    "\n",
    "x=x+10   #n or x=15\n",
    "print(x)\n",
    "\n",
    "#types of variables\n",
    "type(x)\n",
    "print(type(x))\n",
    "\n",
    "\n",
    "fruit_basket=\"Mangoes, Oranges\"\n",
    "print(fruit_basket)\n",
    "\n",
    "print(type(fruit_basket))"
   ]
  },
  {
   "cell_type": "markdown",
   "id": "84fceeaa",
   "metadata": {},
   "source": [
    "### **06-Input variables**"
   ]
  },
  {
   "cell_type": "code",
   "execution_count": 7,
   "id": "d9f4c208",
   "metadata": {},
   "outputs": [
    {
     "name": "stdout",
     "output_type": "stream",
     "text": [
      "Mangoes\n",
      "what is your favourite fruit  ?mangoe\n",
      "mangoe\n",
      "what is your name?  Tanveer\n",
      "Hello! Tanveer\n",
      "what is your name?  Tanveer\n",
      "Hello! Tanveer\n",
      "what is your name?  Tanveer\n",
      "How old are you?  32\n",
      "Hello! Tanveer you are still young\n"
     ]
    }
   ],
   "source": [
    "fruit_basket=\"Mangoes\"\n",
    "print(fruit_basket)\n",
    "\n",
    "#input function\n",
    "fruit_basket=input(\"what is your favourite fruit  ?\")\n",
    "print(fruit_basket)\n",
    "\n",
    "#input function of 2nd stage\n",
    "name=input(\"what is your name?  \")\n",
    "greetings=\"Hello!\"\n",
    "print(greetings,name)\n",
    "\n",
    "#another function of stage 2 input function\n",
    "name=input(\"what is your name?  \")\n",
    "\n",
    "print(\"Hello!\",name)\n",
    "\n",
    "#3rd stage input function\n",
    "\n",
    "name=input(\"what is your name?  \")\n",
    "age=input(\"How old are you?  \")\n",
    "greetings=\"Hello!\"\n",
    "print(greetings,name,\"you are still young\")"
   ]
  },
  {
   "cell_type": "markdown",
   "id": "42362726",
   "metadata": {},
   "source": [
    "### **07-Conditional logics**"
   ]
  },
  {
   "cell_type": "code",
   "execution_count": 8,
   "id": "4752b3b6",
   "metadata": {},
   "outputs": [
    {
     "name": "stdout",
     "output_type": "stream",
     "text": [
      "True\n",
      "False\n",
      "True\n",
      "True\n",
      "False\n",
      "how old is hammad?  4\n",
      "<class 'int'>\n",
      "False\n"
     ]
    }
   ],
   "source": [
    "#logical operators are either \"true or false\" or \"yes or no\",\"0 or 1\"\n",
    "# equal to                      =\n",
    "#not equal to                  !=\n",
    "#less than                      <\n",
    "#greater than                   >\n",
    "#less than and equal to        <=\n",
    "#greater than and equal to     >=\n",
    "\n",
    "#is 4 equal to 4?\n",
    "print(4==4)\n",
    "\n",
    "print (4!=4)\n",
    "print(4>3)\n",
    "print(3<6)\n",
    "\n",
    "#application of logical operators\n",
    "hammad_age=4\n",
    "age_at_school=5\n",
    "print(hammad_age==age_at_school)\n",
    "\n",
    "#input operator and logicals operator\n",
    "age_at_school=5\n",
    "hammad_age=input(\"how old is hammad?  \")  #input function\n",
    "hammad_age=int(hammad_age)\n",
    "print(type(hammad_age))\n",
    "print(hammad_age==age_at_school)   #logical operator"
   ]
  },
  {
   "cell_type": "markdown",
   "id": "ee94467b",
   "metadata": {},
   "source": [
    "### **08-Type conversion**"
   ]
  },
  {
   "cell_type": "code",
   "execution_count": 9,
   "id": "6fd3aa6f",
   "metadata": {},
   "outputs": [
    {
     "name": "stdout",
     "output_type": "stream",
     "text": [
      "<class 'int'>\n",
      "<class 'float'>\n",
      "<class 'str'>\n",
      "10 <class 'int'>\n",
      "10 type of x is: <class 'int'>\n",
      "what is your age?  32\n",
      "<class 'int'>\n",
      "waht is your name?  Tanveer\n",
      "Tanveer <class 'str'>\n"
     ]
    }
   ],
   "source": [
    "x=10    #integer\n",
    "y=10.2  # float\n",
    "z=\"Hello\"   #string\n",
    "\n",
    "print(type(x))\n",
    "print(type(y))\n",
    "print(type(z))\n",
    "\n",
    "print(x,type(x))\n",
    "\n",
    "print(x,\"type of x is:\" ,type(x))\n",
    "\n",
    "#explicit function\n",
    "age=input(\"what is your age?  \")\n",
    "age=int(age)\n",
    "print(type(age))\n",
    "\n",
    "#name\n",
    "name=input(\"waht is your name?  \")\n",
    "print(name, type(str(name)))"
   ]
  },
  {
   "cell_type": "markdown",
   "id": "76a178b3",
   "metadata": {},
   "source": [
    "### **09-If_ else _elif**"
   ]
  },
  {
   "cell_type": "code",
   "execution_count": 10,
   "id": "b88bd43d",
   "metadata": {},
   "outputs": [
    {
     "name": "stdout",
     "output_type": "stream",
     "text": [
      "hammad cannot go to school\n"
     ]
    }
   ],
   "source": [
    "hammad_age=4\n",
    "required_age_at_school=5\n",
    "#question: can hammad go to school?\n",
    "if hammad_age==required_age_at_school:\n",
    "    print(\"hammad can join the school\")\n",
    "else:\n",
    "    print(\"hammad cannot go to school\")"
   ]
  },
  {
   "cell_type": "code",
   "execution_count": 11,
   "id": "6676cf99",
   "metadata": {},
   "outputs": [
    {
     "name": "stdout",
     "output_type": "stream",
     "text": [
      "hammad should join higher secnodary school\n"
     ]
    }
   ],
   "source": [
    "hammad_age=10\n",
    "required_age_at_school=5\n",
    "#question: can hammad go to school?\n",
    "if hammad_age==required_age_at_school:\n",
    "    print(\"congratulations! hammad can join the school.\")\n",
    "elif hammad_age > required_age_at_school:\n",
    "    print(\"hammad should join higher secnodary school\")\n",
    "else:\n",
    "    print(\"hammad cannot go to school\")"
   ]
  },
  {
   "cell_type": "code",
   "execution_count": 12,
   "id": "a7a0b83a",
   "metadata": {},
   "outputs": [
    {
     "name": "stdout",
     "output_type": "stream",
     "text": [
      "hammad cannot go to school\n"
     ]
    }
   ],
   "source": [
    "hammad_age=3\n",
    "required_age_at_school=5\n",
    "#question: can hammad go to school?\n",
    "if hammad_age==required_age_at_school:\n",
    "    print(\"congratulations! hammad can join the school.\")\n",
    "elif hammad_age < required_age_at_school:\n",
    "    print(\"hammad cannot go to school\")\n",
    "else:\n",
    "    print(\"hammad should join higher secnodary school\")"
   ]
  },
  {
   "cell_type": "code",
   "execution_count": 13,
   "id": "011e6f14",
   "metadata": {},
   "outputs": [
    {
     "name": "stdout",
     "output_type": "stream",
     "text": [
      "you should take care of hammad,he is still a baby!\n"
     ]
    }
   ],
   "source": [
    "hammad_age=2\n",
    "required_age_at_school=5\n",
    "#question: can hammad go to school?\n",
    "if hammad_age==required_age_at_school:\n",
    "    print(\"congratulations! hammad can join the school.\")\n",
    "elif hammad_age > required_age_at_school:\n",
    "    print(\"hammad cannot go to school\")\n",
    "elif hammad_age==2:\n",
    "    print(\"you should take care of hammad,he is still a baby!\")\n",
    "else:\n",
    "    print(\"hammad should join higher secnodary school\")"
   ]
  },
  {
   "cell_type": "markdown",
   "id": "f1c3792b",
   "metadata": {},
   "source": [
    "### **10-Functions**"
   ]
  },
  {
   "cell_type": "code",
   "execution_count": 14,
   "id": "fd83f473",
   "metadata": {},
   "outputs": [],
   "source": [
    "# defining a function"
   ]
  },
  {
   "cell_type": "code",
   "execution_count": 15,
   "id": "ea312a5e",
   "metadata": {},
   "outputs": [
    {
     "name": "stdout",
     "output_type": "stream",
     "text": [
      "we are learning with Aammar\n",
      "we are learning with Aammar\n",
      "we are learning with Aammar\n"
     ]
    }
   ],
   "source": [
    "#defining a function\n",
    "#1 \n",
    "def print_codanics():\n",
    "    print(\"we are learning with Aammar\")\n",
    "    print(\"we are learning with Aammar\")\n",
    "    print(\"we are learning with Aammar\")\n",
    "print_codanics()\n"
   ]
  },
  {
   "cell_type": "code",
   "execution_count": 16,
   "id": "d90983de",
   "metadata": {},
   "outputs": [
    {
     "name": "stdout",
     "output_type": "stream",
     "text": [
      "we are learning with Aammar\n",
      "we are learning with Aammar\n",
      "we are learning with Aammar\n"
     ]
    }
   ],
   "source": [
    "#2\n",
    "def print_codanics():\n",
    "    text=\"we are learning with Aammar\"\n",
    "    print(text)\n",
    "    print(text)\n",
    "    print(text)\n",
    "print_codanics()"
   ]
  },
  {
   "cell_type": "code",
   "execution_count": 17,
   "id": "c30b22f3",
   "metadata": {},
   "outputs": [
    {
     "name": "stdout",
     "output_type": "stream",
     "text": [
      "we are learning python with Aammar in codanics youtube channel\n",
      "we are learning python with Aammar in codanics youtube channel\n",
      "we are learning python with Aammar in codanics youtube channel\n"
     ]
    }
   ],
   "source": [
    "# 3\n",
    "def print_codanics(text):\n",
    "    print(text)\n",
    "    print(text)\n",
    "    print(text)\n",
    "    \n",
    "print_codanics(\"we are learning python with Aammar in codanics youtube channel\")"
   ]
  },
  {
   "cell_type": "code",
   "execution_count": 18,
   "id": "4be21b4c",
   "metadata": {},
   "outputs": [
    {
     "name": "stdout",
     "output_type": "stream",
     "text": [
      "hammad should go to higher school\n"
     ]
    }
   ],
   "source": [
    "#defining a function with if, elif and else statements\n",
    "def school_calculator(age,text):\n",
    "    if age==5:\n",
    "        print(\"hammad can join the school\")\n",
    "    elif age>5:\n",
    "        print(\"hammad should go to higher school\")\n",
    "    else:\n",
    "        print(\"hammad is still a baby\")\n",
    "    \n",
    "school_calculator(age,\"hammad\")\n",
    "    "
   ]
  },
  {
   "cell_type": "code",
   "execution_count": 19,
   "id": "3fff2ef9",
   "metadata": {},
   "outputs": [
    {
     "name": "stdout",
     "output_type": "stream",
     "text": [
      "38\n"
     ]
    }
   ],
   "source": [
    "#defining a function of future\n",
    "def future_age(age):\n",
    "    new_age=age+20\n",
    "    return new_age\n",
    "    print(new_age)\n",
    "future_predicted_age=future_age(18)\n",
    "print(future_predicted_age)    \n"
   ]
  },
  {
   "cell_type": "markdown",
   "id": "4b6832d3",
   "metadata": {},
   "source": [
    "### **11-loops**"
   ]
  },
  {
   "cell_type": "code",
   "execution_count": 20,
   "id": "fa83ab81",
   "metadata": {},
   "outputs": [
    {
     "name": "stdout",
     "output_type": "stream",
     "text": [
      "0\n",
      "1\n",
      "2\n",
      "3\n",
      "4\n"
     ]
    }
   ],
   "source": [
    "#while and for loops\n",
    "# while loops\n",
    "x=0\n",
    "while(x<5):\n",
    "    print(x)\n",
    "    x=x+1"
   ]
  },
  {
   "cell_type": "code",
   "execution_count": 25,
   "id": "93606ebd",
   "metadata": {},
   "outputs": [
    {
     "name": "stdout",
     "output_type": "stream",
     "text": [
      "5\n",
      "6\n",
      "7\n",
      "8\n",
      "9\n"
     ]
    }
   ],
   "source": [
    "#for loops\n",
    "for x in range(5,10):\n",
    "    print(x)"
   ]
  },
  {
   "cell_type": "code",
   "execution_count": 26,
   "id": "909d2dac",
   "metadata": {},
   "outputs": [
    {
     "name": "stdout",
     "output_type": "stream",
     "text": [
      "mon\n",
      "tue\n",
      "wed\n",
      "thu\n",
      "fri\n",
      "sat\n",
      "sun\n"
     ]
    }
   ],
   "source": [
    "#array\n",
    "days=[\"mon\",\"tue\",\"wed\",\"thu\",\"fri\",\"sat\",\"sun\"]\n",
    "for d in days:\n",
    "    print(d)"
   ]
  },
  {
   "cell_type": "code",
   "execution_count": 28,
   "id": "4f939369",
   "metadata": {},
   "outputs": [
    {
     "name": "stdout",
     "output_type": "stream",
     "text": [
      "mon\n",
      "tue\n",
      "wed\n",
      "thu\n"
     ]
    }
   ],
   "source": [
    "days=[\"mon\",\"tue\",\"wed\",\"thu\",\"fri\",\"sat\",\"sun\"]\n",
    "for d in days:\n",
    "    if(d==\"fri\"):break   # loops stops\n",
    "    print(d)"
   ]
  },
  {
   "cell_type": "code",
   "execution_count": 29,
   "id": "6536d602",
   "metadata": {},
   "outputs": [
    {
     "name": "stdout",
     "output_type": "stream",
     "text": [
      "mon\n",
      "tue\n",
      "wed\n",
      "thu\n",
      "sat\n",
      "sun\n"
     ]
    }
   ],
   "source": [
    "days=[\"mon\",\"tue\",\"wed\",\"thu\",\"fri\",\"sat\",\"sun\"]\n",
    "for d in days:\n",
    "    if (d==\"fri\"):continue   # skips d\n",
    "    print(d)"
   ]
  },
  {
   "cell_type": "markdown",
   "id": "15c055cb",
   "metadata": {},
   "source": [
    "### **12-import libraries**"
   ]
  },
  {
   "cell_type": "code",
   "execution_count": 30,
   "id": "9b9de6d9",
   "metadata": {},
   "outputs": [
    {
     "name": "stdout",
     "output_type": "stream",
     "text": [
      "the value of pi is  3.141592653589793\n"
     ]
    }
   ],
   "source": [
    "# if you want ot print the value of pi\n",
    "import math\n",
    "print(\"the value of pi is \", math.pi)\n"
   ]
  },
  {
   "cell_type": "code",
   "execution_count": 31,
   "id": "e1575ac8",
   "metadata": {},
   "outputs": [
    {
     "name": "stdout",
     "output_type": "stream",
     "text": [
      "300\n"
     ]
    }
   ],
   "source": [
    "import statistics\n",
    "x=[150,250,350,450]\n",
    "print(statistics.mean(x))"
   ]
  },
  {
   "cell_type": "code",
   "execution_count": null,
   "id": "2510e194",
   "metadata": {},
   "outputs": [],
   "source": [
    "#numpy,pandas"
   ]
  },
  {
   "cell_type": "code",
   "execution_count": null,
   "id": "8ccf9566",
   "metadata": {},
   "outputs": [],
   "source": [
    "### **13-trouble shooting"
   ]
  },
  {
   "cell_type": "code",
   "execution_count": 32,
   "id": "5e73afc0",
   "metadata": {},
   "outputs": [
    {
     "ename": "SyntaxError",
     "evalue": "invalid syntax (Temp/ipykernel_10768/2306876815.py, line 1)",
     "output_type": "error",
     "traceback": [
      "\u001b[1;36m  File \u001b[1;32m\"C:\\Users\\92332\\AppData\\Local\\Temp/ipykernel_10768/2306876815.py\"\u001b[1;36m, line \u001b[1;32m1\u001b[0m\n\u001b[1;33m    print(we are learning python with aammar)\u001b[0m\n\u001b[1;37m             ^\u001b[0m\n\u001b[1;31mSyntaxError\u001b[0m\u001b[1;31m:\u001b[0m invalid syntax\n"
     ]
    }
   ],
   "source": [
    "print(we are learning python with aammar)   # syntax error"
   ]
  },
  {
   "cell_type": "code",
   "execution_count": 33,
   "id": "ef888cdb",
   "metadata": {},
   "outputs": [
    {
     "ename": "ZeroDivisionError",
     "evalue": "division by zero",
     "output_type": "error",
     "traceback": [
      "\u001b[1;31m---------------------------------------------------------------------------\u001b[0m",
      "\u001b[1;31mZeroDivisionError\u001b[0m                         Traceback (most recent call last)",
      "\u001b[1;32m~\\AppData\\Local\\Temp/ipykernel_10768/2870804441.py\u001b[0m in \u001b[0;36m<module>\u001b[1;34m\u001b[0m\n\u001b[1;32m----> 1\u001b[1;33m \u001b[0mprint\u001b[0m\u001b[1;33m(\u001b[0m\u001b[1;36m25\u001b[0m\u001b[1;33m/\u001b[0m\u001b[1;36m0\u001b[0m\u001b[1;33m)\u001b[0m\u001b[1;33m\u001b[0m\u001b[1;33m\u001b[0m\u001b[0m\n\u001b[0m",
      "\u001b[1;31mZeroDivisionError\u001b[0m: division by zero"
     ]
    }
   ],
   "source": [
    "print(25/0)   # runtime error"
   ]
  },
  {
   "cell_type": "code",
   "execution_count": 34,
   "id": "673b96ad",
   "metadata": {},
   "outputs": [
    {
     "ename": "TypeError",
     "evalue": "unsupported operand type(s) for -: 'str' and 'str'",
     "output_type": "error",
     "traceback": [
      "\u001b[1;31m---------------------------------------------------------------------------\u001b[0m",
      "\u001b[1;31mTypeError\u001b[0m                                 Traceback (most recent call last)",
      "\u001b[1;32m~\\AppData\\Local\\Temp/ipykernel_10768/3487219045.py\u001b[0m in \u001b[0;36m<module>\u001b[1;34m\u001b[0m\n\u001b[1;32m----> 1\u001b[1;33m \u001b[0mname\u001b[0m\u001b[1;33m-\u001b[0m\u001b[1;34m\"Aammar\"\u001b[0m\u001b[1;33m\u001b[0m\u001b[1;33m\u001b[0m\u001b[0m\n\u001b[0m\u001b[0;32m      2\u001b[0m \u001b[0mprint\u001b[0m\u001b[1;33m(\u001b[0m\u001b[1;34m\"Hello name\"\u001b[0m\u001b[1;33m)\u001b[0m\u001b[1;33m\u001b[0m\u001b[1;33m\u001b[0m\u001b[0m\n",
      "\u001b[1;31mTypeError\u001b[0m: unsupported operand type(s) for -: 'str' and 'str'"
     ]
    }
   ],
   "source": [
    "name-\"Aammar\"\n",
    "print(\"Hello name\")   #symentic error"
   ]
  },
  {
   "cell_type": "code",
   "execution_count": 35,
   "id": "737543af",
   "metadata": {},
   "outputs": [
    {
     "name": "stdout",
     "output_type": "stream",
     "text": [
      "Hello Aammar\n"
     ]
    }
   ],
   "source": [
    "name=\"Aammar\"\n",
    "print(\"Hello\",name)"
   ]
  },
  {
   "cell_type": "code",
   "execution_count": null,
   "id": "30e8868e",
   "metadata": {},
   "outputs": [],
   "source": []
  },
  {
   "cell_type": "markdown",
   "id": "c62aa1ca",
   "metadata": {},
   "source": [
    "# **Indexing**"
   ]
  },
  {
   "cell_type": "code",
   "execution_count": 36,
   "id": "37093d65",
   "metadata": {},
   "outputs": [
    {
     "data": {
      "text/plain": [
       "'samaosa Pkorra'"
      ]
     },
     "execution_count": 36,
     "metadata": {},
     "output_type": "execute_result"
    }
   ],
   "source": [
    "#make a string\n",
    "a=\"samaosa Pkorra\"\n",
    "a"
   ]
  },
  {
   "cell_type": "code",
   "execution_count": 37,
   "id": "69ca9aa9",
   "metadata": {},
   "outputs": [
    {
     "data": {
      "text/plain": [
       "'samaosa Pkorra'"
      ]
     },
     "execution_count": 37,
     "metadata": {},
     "output_type": "execute_result"
    }
   ],
   "source": [
    "a"
   ]
  },
  {
   "cell_type": "code",
   "execution_count": 38,
   "id": "b6ac9fd3",
   "metadata": {},
   "outputs": [
    {
     "data": {
      "text/plain": [
       "'s'"
      ]
     },
     "execution_count": 38,
     "metadata": {},
     "output_type": "execute_result"
    }
   ],
   "source": [
    "a[0]"
   ]
  },
  {
   "cell_type": "code",
   "execution_count": 39,
   "id": "c3a6de97",
   "metadata": {},
   "outputs": [
    {
     "data": {
      "text/plain": [
       "'a'"
      ]
     },
     "execution_count": 39,
     "metadata": {},
     "output_type": "execute_result"
    }
   ],
   "source": [
    "a[1]"
   ]
  },
  {
   "cell_type": "code",
   "execution_count": 40,
   "id": "24f5c3c8",
   "metadata": {},
   "outputs": [
    {
     "data": {
      "text/plain": [
       "14"
      ]
     },
     "execution_count": 40,
     "metadata": {},
     "output_type": "execute_result"
    }
   ],
   "source": [
    "#length of indeces\n",
    "len(a)"
   ]
  },
  {
   "cell_type": "code",
   "execution_count": 41,
   "id": "7873f9d8",
   "metadata": {},
   "outputs": [
    {
     "data": {
      "text/plain": [
       "'samao'"
      ]
     },
     "execution_count": 41,
     "metadata": {},
     "output_type": "execute_result"
    }
   ],
   "source": [
    "a[0:5]"
   ]
  },
  {
   "cell_type": "code",
   "execution_count": 42,
   "id": "435d9dbf",
   "metadata": {},
   "outputs": [
    {
     "data": {
      "text/plain": [
       "'samaos'"
      ]
     },
     "execution_count": 42,
     "metadata": {},
     "output_type": "execute_result"
    }
   ],
   "source": [
    "#last index is exclusive\n",
    "a[0:6]"
   ]
  },
  {
   "cell_type": "code",
   "execution_count": 43,
   "id": "5ee1171e",
   "metadata": {},
   "outputs": [
    {
     "data": {
      "text/plain": [
       "''"
      ]
     },
     "execution_count": 43,
     "metadata": {},
     "output_type": "execute_result"
    }
   ],
   "source": [
    "a[-1:-6]"
   ]
  },
  {
   "cell_type": "code",
   "execution_count": 44,
   "id": "d767fca1",
   "metadata": {},
   "outputs": [
    {
     "data": {
      "text/plain": [
       "'Pkorr'"
      ]
     },
     "execution_count": 44,
     "metadata": {},
     "output_type": "execute_result"
    }
   ],
   "source": [
    "a[-6:-1]"
   ]
  },
  {
   "cell_type": "code",
   "execution_count": 45,
   "id": "c8286b36",
   "metadata": {},
   "outputs": [
    {
     "data": {
      "text/plain": [
       "'Pkorr'"
      ]
     },
     "execution_count": 45,
     "metadata": {},
     "output_type": "execute_result"
    }
   ],
   "source": [
    "a[-6:13]"
   ]
  },
  {
   "cell_type": "code",
   "execution_count": 47,
   "id": "90228fff",
   "metadata": {},
   "outputs": [
    {
     "data": {
      "text/plain": [
       "'biryani'"
      ]
     },
     "execution_count": 47,
     "metadata": {},
     "output_type": "execute_result"
    }
   ],
   "source": [
    "food=\"biryani\"\n",
    "food"
   ]
  },
  {
   "cell_type": "markdown",
   "id": "ff7a3ebd",
   "metadata": {},
   "source": [
    "# String methods"
   ]
  },
  {
   "cell_type": "code",
   "execution_count": 48,
   "id": "3a4d0beb",
   "metadata": {},
   "outputs": [
    {
     "data": {
      "text/plain": [
       "'biryani'"
      ]
     },
     "execution_count": 48,
     "metadata": {},
     "output_type": "execute_result"
    }
   ],
   "source": [
    "food"
   ]
  },
  {
   "cell_type": "code",
   "execution_count": 49,
   "id": "a18659d6",
   "metadata": {},
   "outputs": [
    {
     "data": {
      "text/plain": [
       "7"
      ]
     },
     "execution_count": 49,
     "metadata": {},
     "output_type": "execute_result"
    }
   ],
   "source": [
    "len(food)"
   ]
  },
  {
   "cell_type": "code",
   "execution_count": 51,
   "id": "d4fcf018",
   "metadata": {},
   "outputs": [
    {
     "data": {
      "text/plain": [
       "'BIRYANI'"
      ]
     },
     "execution_count": 51,
     "metadata": {},
     "output_type": "execute_result"
    }
   ],
   "source": [
    "food.upper()"
   ]
  },
  {
   "cell_type": "code",
   "execution_count": 52,
   "id": "6abc8883",
   "metadata": {},
   "outputs": [
    {
     "data": {
      "text/plain": [
       "'biryani'"
      ]
     },
     "execution_count": 52,
     "metadata": {},
     "output_type": "execute_result"
    }
   ],
   "source": [
    "#lower case letter\n",
    "food.lower()"
   ]
  },
  {
   "cell_type": "code",
   "execution_count": 53,
   "id": "e43d1468",
   "metadata": {},
   "outputs": [
    {
     "data": {
      "text/plain": [
       "'Biryani'"
      ]
     },
     "execution_count": 53,
     "metadata": {},
     "output_type": "execute_result"
    }
   ],
   "source": [
    "#capitalize every element\n",
    "food.capitalize()"
   ]
  },
  {
   "cell_type": "code",
   "execution_count": 54,
   "id": "a6ba0953",
   "metadata": {},
   "outputs": [
    {
     "data": {
      "text/plain": [
       "'shiryani'"
      ]
     },
     "execution_count": 54,
     "metadata": {},
     "output_type": "execute_result"
    }
   ],
   "source": [
    "#replace\n",
    "food.replace(\"b\",\"sh\")"
   ]
  },
  {
   "cell_type": "code",
   "execution_count": 55,
   "id": "b1f92835",
   "metadata": {},
   "outputs": [
    {
     "data": {
      "text/plain": [
       "'baba_aammar_with_Dr_aammar_tufail'"
      ]
     },
     "execution_count": 55,
     "metadata": {},
     "output_type": "execute_result"
    }
   ],
   "source": [
    "#counting a specific alphabet in a string\n",
    "name=\"baba_aammar_with_Dr_aammar_tufail\"\n",
    "name"
   ]
  },
  {
   "cell_type": "code",
   "execution_count": 56,
   "id": "1c169ded",
   "metadata": {},
   "outputs": [
    {
     "data": {
      "text/plain": [
       "9"
      ]
     },
     "execution_count": 56,
     "metadata": {},
     "output_type": "execute_result"
    }
   ],
   "source": [
    "name.count(\"a\")"
   ]
  },
  {
   "cell_type": "markdown",
   "id": "8ca7da96",
   "metadata": {},
   "source": [
    "### finding and index number in string"
   ]
  },
  {
   "cell_type": "code",
   "execution_count": 58,
   "id": "d6364465",
   "metadata": {},
   "outputs": [
    {
     "data": {
      "text/plain": [
       "'baba_aammar_with_Dr_aammar_tufail'"
      ]
     },
     "execution_count": 58,
     "metadata": {},
     "output_type": "execute_result"
    }
   ],
   "source": [
    "name=\"baba_aammar_with_Dr_aammar_tufail\"\n",
    "name"
   ]
  },
  {
   "cell_type": "code",
   "execution_count": 59,
   "id": "fc5ec9f1",
   "metadata": {},
   "outputs": [
    {
     "data": {
      "text/plain": [
       "0"
      ]
     },
     "execution_count": 59,
     "metadata": {},
     "output_type": "execute_result"
    }
   ],
   "source": [
    "name.find(\"b\")"
   ]
  },
  {
   "cell_type": "code",
   "execution_count": 60,
   "id": "91ae5c7b",
   "metadata": {},
   "outputs": [
    {
     "data": {
      "text/plain": [
       "1"
      ]
     },
     "execution_count": 60,
     "metadata": {},
     "output_type": "execute_result"
    }
   ],
   "source": [
    "name.find(\"a\")"
   ]
  },
  {
   "cell_type": "code",
   "execution_count": 61,
   "id": "921341b6",
   "metadata": {},
   "outputs": [
    {
     "data": {
      "text/plain": [
       "'i love samosa, pkorra,raita,biryani and karrhai'"
      ]
     },
     "execution_count": 61,
     "metadata": {},
     "output_type": "execute_result"
    }
   ],
   "source": [
    "### How to split a string\n",
    "food=\"i love samosa, pkorra,raita,biryani and karrhai\"\n",
    "food"
   ]
  },
  {
   "cell_type": "code",
   "execution_count": 62,
   "id": "0cf61675",
   "metadata": {},
   "outputs": [
    {
     "data": {
      "text/plain": [
       "['i love samosa', ' pkorra', 'raita', 'biryani and karrhai']"
      ]
     },
     "execution_count": 62,
     "metadata": {},
     "output_type": "execute_result"
    }
   ],
   "source": [
    "food.split(\",\")"
   ]
  },
  {
   "cell_type": "markdown",
   "id": "36d942ee",
   "metadata": {},
   "source": [
    "### **Basic data structure in Python**\n",
    "## **1-Tuple**\n",
    "## **2-List**\n",
    "## **3-Dictionaries**\n",
    "## **4-Set**"
   ]
  },
  {
   "cell_type": "markdown",
   "id": "69b92372",
   "metadata": {},
   "source": [
    "## 1-Tuple\n",
    "- ordered collection of elements\n",
    "-enclosed in () braces /parenthsis\n",
    "-different kind of elements can be stored\n",
    "-once elements are stored you can not change them (unmutatable)"
   ]
  },
  {
   "cell_type": "code",
   "execution_count": 63,
   "id": "5411a191",
   "metadata": {},
   "outputs": [
    {
     "data": {
      "text/plain": [
       "(1, 'python', True, 2.5)"
      ]
     },
     "execution_count": 63,
     "metadata": {},
     "output_type": "execute_result"
    }
   ],
   "source": [
    "tup1=(1,\"python\",True,2.5)\n",
    "tup1"
   ]
  },
  {
   "cell_type": "code",
   "execution_count": 64,
   "id": "d5a98647",
   "metadata": {},
   "outputs": [
    {
     "data": {
      "text/plain": [
       "tuple"
      ]
     },
     "execution_count": 64,
     "metadata": {},
     "output_type": "execute_result"
    }
   ],
   "source": [
    "#type of a tuple\n",
    "type(tup1)"
   ]
  },
  {
   "cell_type": "markdown",
   "id": "81d626f3",
   "metadata": {},
   "source": [
    "**-Indexing in tuple**"
   ]
  },
  {
   "cell_type": "code",
   "execution_count": 65,
   "id": "12e39271",
   "metadata": {},
   "outputs": [
    {
     "data": {
      "text/plain": [
       "'python'"
      ]
     },
     "execution_count": 65,
     "metadata": {},
     "output_type": "execute_result"
    }
   ],
   "source": [
    "tup1[1]"
   ]
  },
  {
   "cell_type": "code",
   "execution_count": 67,
   "id": "5e827be5",
   "metadata": {},
   "outputs": [
    {
     "data": {
      "text/plain": [
       "True"
      ]
     },
     "execution_count": 67,
     "metadata": {},
     "output_type": "execute_result"
    }
   ],
   "source": [
    "tup1[2]"
   ]
  },
  {
   "cell_type": "code",
   "execution_count": 71,
   "id": "c31ebb8d",
   "metadata": {},
   "outputs": [
    {
     "data": {
      "text/plain": [
       "(1, 'python', True)"
      ]
     },
     "execution_count": 71,
     "metadata": {},
     "output_type": "execute_result"
    }
   ],
   "source": [
    "#last element is exclusive\n",
    "tup1[0:3]"
   ]
  },
  {
   "cell_type": "code",
   "execution_count": 72,
   "id": "d16286e4",
   "metadata": {},
   "outputs": [
    {
     "data": {
      "text/plain": [
       "4"
      ]
     },
     "execution_count": 72,
     "metadata": {},
     "output_type": "execute_result"
    }
   ],
   "source": [
    "#count of elements in tuple\n",
    "len(tup1)"
   ]
  },
  {
   "cell_type": "code",
   "execution_count": 73,
   "id": "8968f686",
   "metadata": {},
   "outputs": [
    {
     "data": {
      "text/plain": [
       "(2, 'babaaammar', 3.5, False)"
      ]
     },
     "execution_count": 73,
     "metadata": {},
     "output_type": "execute_result"
    }
   ],
   "source": [
    "tup2=(2,\"babaaammar\",3.5,False)\n",
    "tup2"
   ]
  },
  {
   "cell_type": "code",
   "execution_count": 74,
   "id": "ff63023a",
   "metadata": {},
   "outputs": [
    {
     "data": {
      "text/plain": [
       "(1, 'python', True, 2.5, 2, 'babaaammar', 3.5, False)"
      ]
     },
     "execution_count": 74,
     "metadata": {},
     "output_type": "execute_result"
    }
   ],
   "source": [
    "# concatinae (to add two tuples or more than 2)\n",
    "tup1+tup2"
   ]
  },
  {
   "cell_type": "code",
   "execution_count": 75,
   "id": "5232c610",
   "metadata": {},
   "outputs": [
    {
     "data": {
      "text/plain": [
       "(1, 'python', True, 2.5, 1, 'python', True, 2.5, 2, 'babaaammar', 3.5, False)"
      ]
     },
     "execution_count": 75,
     "metadata": {},
     "output_type": "execute_result"
    }
   ],
   "source": [
    "# concatinae +repeat\n",
    "tup1*2+tup2"
   ]
  },
  {
   "cell_type": "code",
   "execution_count": 76,
   "id": "be6f61bd",
   "metadata": {},
   "outputs": [
    {
     "data": {
      "text/plain": [
       "(20, 50, 30, 60, 79, 85)"
      ]
     },
     "execution_count": 76,
     "metadata": {},
     "output_type": "execute_result"
    }
   ],
   "source": [
    "tup3=(20,50,30,60,79,85)\n",
    "tup3"
   ]
  },
  {
   "cell_type": "code",
   "execution_count": 77,
   "id": "849c4785",
   "metadata": {},
   "outputs": [
    {
     "data": {
      "text/plain": [
       "20"
      ]
     },
     "execution_count": 77,
     "metadata": {},
     "output_type": "execute_result"
    }
   ],
   "source": [
    "#minimum\n",
    "min(tup3)"
   ]
  },
  {
   "cell_type": "code",
   "execution_count": 78,
   "id": "61693bcb",
   "metadata": {},
   "outputs": [
    {
     "data": {
      "text/plain": [
       "85"
      ]
     },
     "execution_count": 78,
     "metadata": {},
     "output_type": "execute_result"
    }
   ],
   "source": [
    "#maximum\n",
    "max(tup3)"
   ]
  },
  {
   "cell_type": "code",
   "execution_count": 79,
   "id": "6d7a9bc7",
   "metadata": {},
   "outputs": [
    {
     "data": {
      "text/plain": [
       "(20, 50, 30, 60, 79, 85, 20, 50, 30, 60, 79, 85)"
      ]
     },
     "execution_count": 79,
     "metadata": {},
     "output_type": "execute_result"
    }
   ],
   "source": [
    "tup3*2"
   ]
  },
  {
   "cell_type": "markdown",
   "id": "750b9518",
   "metadata": {},
   "source": [
    "---"
   ]
  },
  {
   "cell_type": "markdown",
   "id": "4a6d610f",
   "metadata": {},
   "source": [
    "## 2-list\n",
    "- ordered collection of elements\n",
    "- enclosed in [] square brackets\n",
    "- mutateable , you can change the values"
   ]
  },
  {
   "cell_type": "code",
   "execution_count": 81,
   "id": "beccfe05",
   "metadata": {},
   "outputs": [
    {
     "data": {
      "text/plain": [
       "[2, 'babaaammar', False]"
      ]
     },
     "execution_count": 81,
     "metadata": {},
     "output_type": "execute_result"
    }
   ],
   "source": [
    "list1=[2,\"babaaammar\",False]\n",
    "list1"
   ]
  },
  {
   "cell_type": "code",
   "execution_count": 82,
   "id": "7903258f",
   "metadata": {},
   "outputs": [
    {
     "data": {
      "text/plain": [
       "list"
      ]
     },
     "execution_count": 82,
     "metadata": {},
     "output_type": "execute_result"
    }
   ],
   "source": [
    "type(list1)"
   ]
  },
  {
   "cell_type": "code",
   "execution_count": 83,
   "id": "222df12f",
   "metadata": {},
   "outputs": [
    {
     "data": {
      "text/plain": [
       "3"
      ]
     },
     "execution_count": 83,
     "metadata": {},
     "output_type": "execute_result"
    }
   ],
   "source": [
    "len(list1)"
   ]
  },
  {
   "cell_type": "code",
   "execution_count": 85,
   "id": "3f841b9a",
   "metadata": {},
   "outputs": [
    {
     "data": {
      "text/plain": [
       "False"
      ]
     },
     "execution_count": 85,
     "metadata": {},
     "output_type": "execute_result"
    }
   ],
   "source": [
    "list1[2]"
   ]
  },
  {
   "cell_type": "code",
   "execution_count": 86,
   "id": "64a956e2",
   "metadata": {},
   "outputs": [
    {
     "data": {
      "text/plain": [
       "[3, 5, 'aammar', 'codanics', 478, 53.2, False]"
      ]
     },
     "execution_count": 86,
     "metadata": {},
     "output_type": "execute_result"
    }
   ],
   "source": [
    "list2=[3,5,\"aammar\",\"codanics\",478,53.2,False]\n",
    "list2"
   ]
  },
  {
   "cell_type": "code",
   "execution_count": 87,
   "id": "d1c701dc",
   "metadata": {},
   "outputs": [
    {
     "data": {
      "text/plain": [
       "[2, 'babaaammar', False, 3, 5, 'aammar', 'codanics', 478, 53.2, False]"
      ]
     },
     "execution_count": 87,
     "metadata": {},
     "output_type": "execute_result"
    }
   ],
   "source": [
    "list1+list2"
   ]
  },
  {
   "cell_type": "code",
   "execution_count": 88,
   "id": "96f25181",
   "metadata": {},
   "outputs": [
    {
     "data": {
      "text/plain": [
       "[2, 'babaaammar', False, 2, 'babaaammar', False]"
      ]
     },
     "execution_count": 88,
     "metadata": {},
     "output_type": "execute_result"
    }
   ],
   "source": [
    "list1*2"
   ]
  },
  {
   "cell_type": "code",
   "execution_count": 91,
   "id": "bfd4c461",
   "metadata": {},
   "outputs": [
    {
     "data": {
      "text/plain": [
       "[False, 'babaaammar', 2]"
      ]
     },
     "execution_count": 91,
     "metadata": {},
     "output_type": "execute_result"
    }
   ],
   "source": [
    "list1.reverse()\n",
    "list1"
   ]
  },
  {
   "cell_type": "code",
   "execution_count": 92,
   "id": "75d56855",
   "metadata": {},
   "outputs": [
    {
     "data": {
      "text/plain": [
       "[False, 'babaaammar', 2, 'codanics youtube channel']"
      ]
     },
     "execution_count": 92,
     "metadata": {},
     "output_type": "execute_result"
    }
   ],
   "source": [
    "list1.append(\"codanics youtube channel\")\n",
    "list1"
   ]
  },
  {
   "cell_type": "code",
   "execution_count": 93,
   "id": "28130dab",
   "metadata": {},
   "outputs": [
    {
     "data": {
      "text/plain": [
       "[]"
      ]
     },
     "execution_count": 93,
     "metadata": {},
     "output_type": "execute_result"
    }
   ],
   "source": [
    "list1.clear()\n",
    "list1"
   ]
  },
  {
   "cell_type": "code",
   "execution_count": 95,
   "id": "56aa5022",
   "metadata": {},
   "outputs": [
    {
     "data": {
      "text/plain": [
       "[2, 'babaaammar', False]"
      ]
     },
     "execution_count": 95,
     "metadata": {},
     "output_type": "execute_result"
    }
   ],
   "source": [
    "list1=[2,\"babaaammar\",False]\n",
    "list1"
   ]
  },
  {
   "cell_type": "code",
   "execution_count": 97,
   "id": "7b0d7423",
   "metadata": {},
   "outputs": [
    {
     "data": {
      "text/plain": [
       "[2, 'babaaammar', False]"
      ]
     },
     "execution_count": 97,
     "metadata": {},
     "output_type": "execute_result"
    }
   ],
   "source": [
    "#list.count function\n",
    "list1.count(\"a\")\n",
    "list1"
   ]
  },
  {
   "cell_type": "code",
   "execution_count": 98,
   "id": "109b58f8",
   "metadata": {},
   "outputs": [
    {
     "data": {
      "text/plain": [
       "[20, 30, 40, 50, 12, 15, 11, 10, 356, 886]"
      ]
     },
     "execution_count": 98,
     "metadata": {},
     "output_type": "execute_result"
    }
   ],
   "source": [
    "list3=[20,30,40,50,12,15,11,10,356,886]\n",
    "list3"
   ]
  },
  {
   "cell_type": "code",
   "execution_count": 99,
   "id": "8a0db08b",
   "metadata": {},
   "outputs": [
    {
     "data": {
      "text/plain": [
       "10"
      ]
     },
     "execution_count": 99,
     "metadata": {},
     "output_type": "execute_result"
    }
   ],
   "source": [
    "len(list3)"
   ]
  },
  {
   "cell_type": "code",
   "execution_count": 100,
   "id": "1f0a7098",
   "metadata": {},
   "outputs": [
    {
     "data": {
      "text/plain": [
       "[10, 11, 12, 15, 20, 30, 40, 50, 356, 886]"
      ]
     },
     "execution_count": 100,
     "metadata": {},
     "output_type": "execute_result"
    }
   ],
   "source": [
    "#sorting a list  to arrange it in an order\n",
    "list3.sort()\n",
    "list3"
   ]
  },
  {
   "cell_type": "code",
   "execution_count": 102,
   "id": "20568729",
   "metadata": {},
   "outputs": [
    {
     "data": {
      "text/plain": [
       "[10,\n",
       " 11,\n",
       " 12,\n",
       " 15,\n",
       " 20,\n",
       " 30,\n",
       " 40,\n",
       " 50,\n",
       " 356,\n",
       " 886,\n",
       " 10,\n",
       " 11,\n",
       " 12,\n",
       " 15,\n",
       " 20,\n",
       " 30,\n",
       " 40,\n",
       " 50,\n",
       " 356,\n",
       " 886]"
      ]
     },
     "execution_count": 102,
     "metadata": {},
     "output_type": "execute_result"
    }
   ],
   "source": [
    "list3*2"
   ]
  },
  {
   "cell_type": "code",
   "execution_count": 103,
   "id": "b905842b",
   "metadata": {},
   "outputs": [
    {
     "data": {
      "text/plain": [
       "[2, 'babaaammar', False, 3, 5, 'aammar', 'codanics', 478, 53.2, False]"
      ]
     },
     "execution_count": 103,
     "metadata": {},
     "output_type": "execute_result"
    }
   ],
   "source": [
    "lists=list1+list2\n",
    "lists"
   ]
  },
  {
   "cell_type": "markdown",
   "id": "146c9fa2",
   "metadata": {},
   "source": [
    "## 3-Dictionaries\n",
    "- An unordered collection of elements\n",
    "- key and value\n",
    "- curly braces or brackets{}\n",
    "- Mutateable/can change the values"
   ]
  },
  {
   "cell_type": "code",
   "execution_count": 105,
   "id": "520ddb37",
   "metadata": {},
   "outputs": [
    {
     "data": {
      "text/plain": [
       "{'samosa': 30, 'pakorr': 100, 'Raita': 20, 'Salad': 50, 'Chicken roles': 30}"
      ]
     },
     "execution_count": 105,
     "metadata": {},
     "output_type": "execute_result"
    }
   ],
   "source": [
    "#Food and their prices\n",
    "Food1={\"samosa\":30,\"pakorr\":100,\"Raita\":20,\"Salad\":50,\"Chicken roles\":30}\n",
    "Food1"
   ]
  },
  {
   "cell_type": "code",
   "execution_count": 106,
   "id": "964a838a",
   "metadata": {},
   "outputs": [
    {
     "data": {
      "text/plain": [
       "dict"
      ]
     },
     "execution_count": 106,
     "metadata": {},
     "output_type": "execute_result"
    }
   ],
   "source": [
    "type(Food1)"
   ]
  },
  {
   "cell_type": "code",
   "execution_count": 109,
   "id": "4e9c2ebe",
   "metadata": {},
   "outputs": [
    {
     "data": {
      "text/plain": [
       "dict_keys(['samosa', 'pakorr', 'Raita', 'Salad', 'Chicken roles'])"
      ]
     },
     "execution_count": 109,
     "metadata": {},
     "output_type": "execute_result"
    }
   ],
   "source": [
    "# extract data\n",
    "keys1=Food1.keys()\n",
    "keys1"
   ]
  },
  {
   "cell_type": "code",
   "execution_count": 110,
   "id": "7c9d1c74",
   "metadata": {},
   "outputs": [
    {
     "data": {
      "text/plain": [
       "dict_values([30, 100, 20, 50, 30])"
      ]
     },
     "execution_count": 110,
     "metadata": {},
     "output_type": "execute_result"
    }
   ],
   "source": [
    "values1=Food1.values()\n",
    "values1"
   ]
  },
  {
   "cell_type": "code",
   "execution_count": 114,
   "id": "a9d54f8b",
   "metadata": {},
   "outputs": [
    {
     "data": {
      "text/plain": [
       "{'samosa': 30,\n",
       " 'pakorr': 100,\n",
       " 'Raita': 20,\n",
       " 'Salad': 50,\n",
       " 'Chicken roles': 30,\n",
       " 'tikki': 10}"
      ]
     },
     "execution_count": 114,
     "metadata": {},
     "output_type": "execute_result"
    }
   ],
   "source": [
    "Food1[\"tikki\"]=10\n",
    "Food1"
   ]
  },
  {
   "cell_type": "code",
   "execution_count": 115,
   "id": "1052c9db",
   "metadata": {},
   "outputs": [
    {
     "data": {
      "text/plain": [
       "{'samosa': 30,\n",
       " 'pakorr': 100,\n",
       " 'Raita': 20,\n",
       " 'Salad': 50,\n",
       " 'Chicken roles': 30,\n",
       " 'tikki': 15}"
      ]
     },
     "execution_count": 115,
     "metadata": {},
     "output_type": "execute_result"
    }
   ],
   "source": [
    "#updating the values\n",
    "Food1[\"tikki\"]=15\n",
    "Food1"
   ]
  },
  {
   "cell_type": "code",
   "execution_count": 116,
   "id": "3fa9bf64",
   "metadata": {},
   "outputs": [
    {
     "data": {
      "text/plain": [
       "{'dates': 50, 'choclates': 200, 'sawayyan': 1000}"
      ]
     },
     "execution_count": 116,
     "metadata": {},
     "output_type": "execute_result"
    }
   ],
   "source": [
    "food2={\"dates\":50,\"choclates\":200,\"sawayyan\":1000}\n",
    "food2"
   ]
  },
  {
   "cell_type": "code",
   "execution_count": 119,
   "id": "1ac5cdf6",
   "metadata": {},
   "outputs": [],
   "source": [
    "#concatinate\n",
    "Food1.update(food2)"
   ]
  },
  {
   "cell_type": "code",
   "execution_count": 120,
   "id": "7f23244f",
   "metadata": {},
   "outputs": [
    {
     "data": {
      "text/plain": [
       "{'samosa': 30,\n",
       " 'pakorr': 100,\n",
       " 'Raita': 20,\n",
       " 'Salad': 50,\n",
       " 'Chicken roles': 30,\n",
       " 'tikki': 15,\n",
       " 'dates': 50,\n",
       " 'choclates': 200,\n",
       " 'sawayyan': 1000}"
      ]
     },
     "execution_count": 120,
     "metadata": {},
     "output_type": "execute_result"
    }
   ],
   "source": [
    "Food1"
   ]
  },
  {
   "cell_type": "markdown",
   "id": "535b04e7",
   "metadata": {},
   "source": [
    "## 3- Sets\n",
    "- unordered and unindexed\n",
    "- curly braces are used {}\n",
    "- no duplicates allowed"
   ]
  },
  {
   "cell_type": "code",
   "execution_count": 121,
   "id": "e5543b00",
   "metadata": {},
   "outputs": [
    {
     "data": {
      "text/plain": [
       "{1, 2.1, 5.2, 'aammar', 'codanics', 'faisalabad'}"
      ]
     },
     "execution_count": 121,
     "metadata": {},
     "output_type": "execute_result"
    }
   ],
   "source": [
    "s1={1,2.1,5.2,\"aammar\",\"codanics\",\"faisalabad\",True}\n",
    "s1"
   ]
  },
  {
   "cell_type": "code",
   "execution_count": 133,
   "id": "0c4113f4",
   "metadata": {},
   "outputs": [],
   "source": [
    "s1.add(\"aammar1\")"
   ]
  },
  {
   "cell_type": "code",
   "execution_count": 134,
   "id": "1ad5c1a5",
   "metadata": {},
   "outputs": [
    {
     "data": {
      "text/plain": [
       "{1, 2.1, 5.2, 'Aammar', 'aammar1', 'codanics', 'faisalabad'}"
      ]
     },
     "execution_count": 134,
     "metadata": {},
     "output_type": "execute_result"
    }
   ],
   "source": [
    "s1"
   ]
  },
  {
   "cell_type": "code",
   "execution_count": 135,
   "id": "e5486758",
   "metadata": {},
   "outputs": [
    {
     "data": {
      "text/plain": [
       "{1, 2.1, 5.2, 'Aammar', 'codanics', 'faisalabad'}"
      ]
     },
     "execution_count": 135,
     "metadata": {},
     "output_type": "execute_result"
    }
   ],
   "source": [
    "s1.remove('aammar1')\n",
    "s1"
   ]
  },
  {
   "cell_type": "markdown",
   "id": "798b5429",
   "metadata": {},
   "source": [
    "---"
   ]
  },
  {
   "cell_type": "code",
   "execution_count": null,
   "id": "dfd21876",
   "metadata": {},
   "outputs": [],
   "source": [
    "# Body mass index(BMI)\n",
    "#input weight\n",
    "# weight\n",
    "#BMI (ask your self your height )\n",
    "# your weight\n",
    "#calculate BMI\n",
    "#print BMI(my name is , and my BMI is ---)"
   ]
  },
  {
   "cell_type": "code",
   "execution_count": 137,
   "id": "869a39ba",
   "metadata": {},
   "outputs": [
    {
     "name": "stdout",
     "output_type": "stream",
     "text": [
      "what is your weight70\n"
     ]
    }
   ],
   "source": [
    "weight=input(\"what is your weight\")"
   ]
  },
  {
   "cell_type": "code",
   "execution_count": 143,
   "id": "f5b8dbb7",
   "metadata": {},
   "outputs": [],
   "source": [
    "weight=float(weight)"
   ]
  },
  {
   "cell_type": "code",
   "execution_count": 138,
   "id": "b5f396f6",
   "metadata": {
    "scrolled": true
   },
   "outputs": [
    {
     "name": "stdout",
     "output_type": "stream",
     "text": [
      "what is your height1.72\n"
     ]
    }
   ],
   "source": [
    "height=input(\"what is your height\")"
   ]
  },
  {
   "cell_type": "code",
   "execution_count": 144,
   "id": "6c776458",
   "metadata": {},
   "outputs": [],
   "source": [
    "height=float(height)"
   ]
  },
  {
   "cell_type": "code",
   "execution_count": 141,
   "id": "f5a6c78b",
   "metadata": {},
   "outputs": [
    {
     "name": "stdout",
     "output_type": "stream",
     "text": [
      "what is your nameTanveer\n"
     ]
    }
   ],
   "source": [
    "name=input(\"what is your name\")"
   ]
  },
  {
   "cell_type": "code",
   "execution_count": 145,
   "id": "f0777e87",
   "metadata": {},
   "outputs": [
    {
     "data": {
      "text/plain": [
       "23.661438615467823"
      ]
     },
     "execution_count": 145,
     "metadata": {},
     "output_type": "execute_result"
    }
   ],
   "source": [
    "BMI= weight/ height**2\n",
    "BMI"
   ]
  },
  {
   "cell_type": "code",
   "execution_count": 147,
   "id": "67c1d094",
   "metadata": {},
   "outputs": [
    {
     "name": "stdout",
     "output_type": "stream",
     "text": [
      "my name is  Tanveer and my BMI is 23.661438615467823\n"
     ]
    }
   ],
   "source": [
    "print(\"my name is \",name, \"and my BMI is\", BMI)"
   ]
  },
  {
   "cell_type": "markdown",
   "id": "30091c50",
   "metadata": {},
   "source": [
    "---"
   ]
  },
  {
   "cell_type": "markdown",
   "id": "ce1c9803",
   "metadata": {},
   "source": [
    "## **Categorical variables**"
   ]
  },
  {
   "cell_type": "markdown",
   "id": "8c13affc",
   "metadata": {},
   "source": [
    "## **Bar plots"
   ]
  },
  {
   "cell_type": "code",
   "execution_count": 151,
   "id": "47d82f54",
   "metadata": {},
   "outputs": [
    {
     "data": {
      "image/png": "[encoded data removed]",
      "text/plain": [
       "<Figure size 436.975x360 with 1 Axes>"
      ]
     },
     "metadata": {},
     "output_type": "display_data"
    }
   ],
   "source": [
    "import seaborn as sns\n",
    "import matplotlib.pyplot as plt\n",
    "sns.set_theme(style=\"ticks\",color_codes=\"True\")\n",
    "titanic=sns.load_dataset(\"titanic\")\n",
    "sns.catplot(x=\"sex\",y=\"survived\",hue=\"class\",kind=\"bar\",data=titanic)\n",
    "plt.show()"
   ]
  },
  {
   "cell_type": "code",
   "execution_count": 156,
   "id": "fc639923",
   "metadata": {},
   "outputs": [
    {
     "data": {
      "image/png": "[encoded data removed]",
      "text/plain": [
       "<Figure size 432x288 with 1 Axes>"
      ]
     },
     "metadata": {},
     "output_type": "display_data"
    }
   ],
   "source": [
    "import seaborn as sns\n",
    "import matplotlib.pyplot as plt\n",
    "sns.set_theme(style=\"ticks\",color_codes=\"True\")\n",
    "titanic=sns.load_dataset(\"titanic\")\n",
    "p1=sns.countplot(x=\"sex\",data=titanic,hue=\"class\")\n",
    "p1.set_title(\"plot for counting\")\n",
    "plt.show()"
   ]
  },
  {
   "cell_type": "markdown",
   "id": "a255a6cc",
   "metadata": {},
   "source": [
    "### **Continuous variables**"
   ]
  },
  {
   "cell_type": "markdown",
   "id": "ee79d1b8",
   "metadata": {},
   "source": [
    "## **scatter plot**"
   ]
  },
  {
   "cell_type": "code",
   "execution_count": 159,
   "id": "8479b00f",
   "metadata": {},
   "outputs": [
    {
     "data": {
      "image/png": "[encoded data removed]",
      "text/plain": [
       "<Figure size 282.35x432 with 2 Axes>"
      ]
     },
     "metadata": {},
     "output_type": "display_data"
    }
   ],
   "source": [
    "import seaborn as sns\n",
    "import matplotlib.pyplot as plt\n",
    "sns.set_theme(style=\"ticks\",color_codes=\"True\")\n",
    "titanic=sns.load_dataset(\"titanic\")\n",
    "g=sns.FacetGrid(titanic,row=\"sex\",hue=\"alone\")\n",
    "g=(g.map(plt.scatter,\"age\",\"fare\").add_legend())\n",
    "plt.show()"
   ]
  },
  {
   "cell_type": "code",
   "execution_count": null,
   "id": "4de7657a",
   "metadata": {},
   "outputs": [],
   "source": []
  },
  {
   "cell_type": "code",
   "execution_count": null,
   "id": "31a7ce51",
   "metadata": {},
   "outputs": [],
   "source": []
  },
  {
   "cell_type": "code",
   "execution_count": null,
   "id": "366a1109",
   "metadata": {},
   "outputs": [],
   "source": []
  },
  {
   "cell_type": "code",
   "execution_count": null,
   "id": "44d6fdf1",
   "metadata": {},
   "outputs": [],
   "source": []
  },
  {
   "cell_type": "code",
   "execution_count": null,
   "id": "ec72f15b",
   "metadata": {},
   "outputs": [],
   "source": []
  },
  {
   "cell_type": "code",
   "execution_count": null,
   "id": "c414413a",
   "metadata": {},
   "outputs": [],
   "source": []
  },
  {
   "cell_type": "code",
   "execution_count": null,
   "id": "d22e6850",
   "metadata": {},
   "outputs": [],
   "source": []
  },
  {
   "cell_type": "code",
   "execution_count": null,
   "id": "c4c390f7",
   "metadata": {},
   "outputs": [],
   "source": []
  },
  {
   "cell_type": "code",
   "execution_count": null,
   "id": "be481eb8",
   "metadata": {},
   "outputs": [],
   "source": []
  },
  {
   "cell_type": "code",
   "execution_count": null,
   "id": "f60f3bc6",
   "metadata": {},
   "outputs": [],
   "source": []
  },
  {
   "cell_type": "code",
   "execution_count": null,
   "id": "86a0d9f5",
   "metadata": {},
   "outputs": [],
   "source": []
  },
  {
   "cell_type": "code",
   "execution_count": null,
   "id": "429f16b5",
   "metadata": {},
   "outputs": [],
   "source": []
  },
  {
   "cell_type": "code",
   "execution_count": null,
   "id": "18d6fffa",
   "metadata": {},
   "outputs": [],
   "source": []
  },
  {
   "cell_type": "code",
   "execution_count": null,
   "id": "fd53a797",
   "metadata": {},
   "outputs": [],
   "source": []
  },
  {
   "cell_type": "code",
   "execution_count": null,
   "id": "02b81aa0",
   "metadata": {},
   "outputs": [],
   "source": []
  },
  {
   "cell_type": "code",
   "execution_count": null,
   "id": "af502cc5",
   "metadata": {},
   "outputs": [],
   "source": []
  },
  {
   "cell_type": "code",
   "execution_count": null,
   "id": "0cf3ff27",
   "metadata": {},
   "outputs": [],
   "source": []
  },
  {
   "cell_type": "code",
   "execution_count": null,
   "id": "29f2ab57",
   "metadata": {},
   "outputs": [],
   "source": []
  },
  {
   "cell_type": "code",
   "execution_count": null,
   "id": "9c83c478",
   "metadata": {},
   "outputs": [],
   "source": []
  },
  {
   "cell_type": "code",
   "execution_count": null,
   "id": "058f76d4",
   "metadata": {},
   "outputs": [],
   "source": []
  },
  {
   "cell_type": "code",
   "execution_count": null,
   "id": "1ffa614b",
   "metadata": {},
   "outputs": [],
   "source": []
  },
  {
   "cell_type": "code",
   "execution_count": null,
   "id": "46b4aff4",
   "metadata": {},
   "outputs": [],
   "source": []
  },
  {
   "cell_type": "code",
   "execution_count": null,
   "id": "9a9d4666",
   "metadata": {},
   "outputs": [],
   "source": []
  },
  {
   "cell_type": "code",
   "execution_count": null,
   "id": "84077d81",
   "metadata": {},
   "outputs": [],
   "source": []
  },
  {
   "cell_type": "code",
   "execution_count": null,
   "id": "6df30517",
   "metadata": {},
   "outputs": [],
   "source": []
  },
  {
   "cell_type": "code",
   "execution_count": null,
   "id": "10ef0a24",
   "metadata": {},
   "outputs": [],
   "source": []
  },
  {
   "cell_type": "code",
   "execution_count": null,
   "id": "d121bec5",
   "metadata": {},
   "outputs": [],
   "source": []
  },
  {
   "cell_type": "code",
   "execution_count": null,
   "id": "fdbb14ef",
   "metadata": {},
   "outputs": [],
   "source": []
  },
  {
   "cell_type": "code",
   "execution_count": null,
   "id": "a1ab78db",
   "metadata": {},
   "outputs": [],
   "source": []
  },
  {
   "cell_type": "code",
   "execution_count": null,
   "id": "04c92bc1",
   "metadata": {},
   "outputs": [],
   "source": []
  },
  {
   "cell_type": "code",
   "execution_count": null,
   "id": "de16e513",
   "metadata": {},
   "outputs": [],
   "source": []
  },
  {
   "cell_type": "code",
   "execution_count": null,
   "id": "dc389dd3",
   "metadata": {},
   "outputs": [],
   "source": []
  },
  {
   "cell_type": "code",
   "execution_count": null,
   "id": "f330f9b3",
   "metadata": {},
   "outputs": [],
   "source": []
  },
  {
   "cell_type": "code",
   "execution_count": null,
   "id": "71997ab8",
   "metadata": {},
   "outputs": [],
   "source": []
  },
  {
   "cell_type": "code",
   "execution_count": null,
   "id": "a5f9d92c",
   "metadata": {},
   "outputs": [],
   "source": []
  },
  {
   "cell_type": "code",
   "execution_count": null,
   "id": "c6974337",
   "metadata": {},
   "outputs": [],
   "source": []
  },
  {
   "cell_type": "code",
   "execution_count": null,
   "id": "bdb7431d",
   "metadata": {},
   "outputs": [],
   "source": []
  },
  {
   "cell_type": "code",
   "execution_count": null,
   "id": "e496b0d4",
   "metadata": {},
   "outputs": [],
   "source": []
  },
  {
   "cell_type": "code",
   "execution_count": null,
   "id": "ceed3707",
   "metadata": {},
   "outputs": [],
   "source": []
  },
  {
   "cell_type": "code",
   "execution_count": null,
   "id": "c2d60137",
   "metadata": {},
   "outputs": [],
   "source": []
  },
  {
   "cell_type": "code",
   "execution_count": null,
   "id": "1e63171b",
   "metadata": {},
   "outputs": [],
   "source": []
  },
  {
   "cell_type": "code",
   "execution_count": null,
   "id": "de138c96",
   "metadata": {},
   "outputs": [],
   "source": []
  },
  {
   "cell_type": "code",
   "execution_count": null,
   "id": "4b4cb861",
   "metadata": {},
   "outputs": [],
   "source": []
  },
  {
   "cell_type": "code",
   "execution_count": null,
   "id": "c8db972c",
   "metadata": {},
   "outputs": [],
   "source": []
  },
  {
   "cell_type": "code",
   "execution_count": null,
   "id": "2f65aaff",
   "metadata": {},
   "outputs": [],
   "source": []
  },
  {
   "cell_type": "code",
   "execution_count": null,
   "id": "650ebe43",
   "metadata": {},
   "outputs": [],
   "source": []
  },
  {
   "cell_type": "code",
   "execution_count": null,
   "id": "3a450b05",
   "metadata": {},
   "outputs": [],
   "source": []
  },
  {
   "cell_type": "code",
   "execution_count": null,
   "id": "f4517e7f",
   "metadata": {},
   "outputs": [],
   "source": []
  },
  {
   "cell_type": "markdown",
   "id": "cbb5102f",
   "metadata": {},
   "source": [
    "## **Array**"
   ]
  },
  {
   "cell_type": "code",
   "execution_count": 21,
   "id": "232f1e55",
   "metadata": {},
   "outputs": [
    {
     "data": {
      "text/plain": [
       "array([0, 1, 2, 3, 4, 5])"
      ]
     },
     "execution_count": 21,
     "metadata": {},
     "output_type": "execute_result"
    }
   ],
   "source": [
    "#with range of elements\n",
    "import numpy as np\n",
    "e= np.arange(6)\n",
    "e"
   ]
  },
  {
   "cell_type": "code",
   "execution_count": 22,
   "id": "b503fab9",
   "metadata": {},
   "outputs": [
    {
     "data": {
      "text/plain": [
       "array([ 2,  3,  4,  5,  6,  7,  8,  9, 10, 11, 12, 13, 14, 15, 16, 17, 18,\n",
       "       19])"
      ]
     },
     "execution_count": 22,
     "metadata": {},
     "output_type": "execute_result"
    }
   ],
   "source": [
    "#with specific range of elements\n",
    "import numpy as np\n",
    "f=np.arange(2,20)\n",
    "f"
   ]
  },
  {
   "cell_type": "code",
   "execution_count": 23,
   "id": "54022b72",
   "metadata": {},
   "outputs": [
    {
     "data": {
      "text/plain": [
       "array([ 2,  4,  6,  8, 10, 12, 14, 16, 18])"
      ]
     },
     "execution_count": 23,
     "metadata": {},
     "output_type": "execute_result"
    }
   ],
   "source": [
    "#continue...\n",
    "import numpy as np\n",
    "g=np.arange(2,20,2)\n",
    "g"
   ]
  },
  {
   "cell_type": "code",
   "execution_count": null,
   "id": "992e036a",
   "metadata": {},
   "outputs": [],
   "source": []
  },
  {
   "cell_type": "code",
   "execution_count": 24,
   "id": "b81f81da",
   "metadata": {},
   "outputs": [
    {
     "data": {
      "text/plain": [
       "array([ 0. ,  2.5,  5. ,  7.5, 10. ])"
      ]
     },
     "execution_count": 24,
     "metadata": {},
     "output_type": "execute_result"
    }
   ],
   "source": [
    "#linerly spaced arrays\n",
    "import numpy as np\n",
    "h=np.linspace(0,10,num=5)  #give us 5 nums\n",
    "h"
   ]
  }
 ],
 "metadata": {
  "kernelspec": {
   "display_name": "Python 3 (ipykernel)",
   "language": "python",
   "name": "python3"
  },
  "language_info": {
   "codemirror_mode": {
    "name": "ipython",
    "version": 3
   },
   "file_extension": ".py",
   "mimetype": "text/x-python",
   "name": "python",
   "nbconvert_exporter": "python",
   "pygments_lexer": "ipython3",
   "version": "3.9.7"
  }
 },
 "nbformat": 4,
 "nbformat_minor": 5
}

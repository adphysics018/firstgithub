{
 "cells": [
  {
   "cell_type": "markdown",
   "id": "3cdd8211",
   "metadata": {},
   "source": [
    "# Python ka chilla with baba Aammar\n",
    "## How to use jupyter notebook\n",
    "### Basics of Python\n",
    "## 1- My first program"
   ]
  },
  {
   "cell_type": "code",
   "execution_count": 2,
   "id": "486ff265",
   "metadata": {},
   "outputs": [
    {
     "name": "stdout",
     "output_type": "stream",
     "text": [
      "5\n",
      "Hello world\n",
      "we learning python with Aammar\n"
     ]
    }
   ],
   "source": [
    "print(2+3)\n",
    "print(\"Hello world\")\n",
    "print(\"we learning python with Aammar\")"
   ]
  },
  {
   "cell_type": "markdown",
   "id": "fd4d4457",
   "metadata": {},
   "source": [
    "### **02-Operators**"
   ]
  },
  {
   "cell_type": "code",
   "execution_count": 3,
   "id": "9d7e2a5f",
   "metadata": {},
   "outputs": [
    {
     "name": "stdout",
     "output_type": "stream",
     "text": [
      "5\n",
      "2\n",
      "3.0\n",
      "6\n",
      "1\n",
      "3\n",
      "8\n",
      "3.5\n"
     ]
    }
   ],
   "source": [
    "print(2+3)\n",
    "print(3-1)\n",
    "print(6/2)\n",
    "print(2*3)\n",
    "print(13%2)\n",
    "print(6//2)\n",
    "print(2**3)\n",
    "\n",
    "print(3**2/2/3+6-4)\n"
   ]
  },
  {
   "cell_type": "markdown",
   "id": "24ce1adb",
   "metadata": {},
   "source": [
    "PEMDAS\n",
    "#Parenthesis Exponents Multiply Divide Addition Subtraction\n",
    "#left to right sequence for M D & A S"
   ]
  },
  {
   "cell_type": "markdown",
   "id": "53c6cbfe",
   "metadata": {},
   "source": [
    "### **03-Strings**"
   ]
  },
  {
   "cell_type": "code",
   "execution_count": 4,
   "id": "e79469eb",
   "metadata": {},
   "outputs": [
    {
     "name": "stdout",
     "output_type": "stream",
     "text": [
      "Hello world\n",
      "we learning python with Aammar\n",
      "Test for single quotes\n",
      "test for double quotes\n",
      " test for triple quotes\n",
      "what's up  ?\n"
     ]
    }
   ],
   "source": [
    "print(\"Hello world\")\n",
    "print(\"we learning python with Aammar\")\n",
    "print('Test for single quotes')\n",
    "print(\"test for double quotes\")\n",
    "print(''' test for triple quotes''')\n",
    "\n",
    "print(\"what's up  ?\")\n"
   ]
  },
  {
   "cell_type": "markdown",
   "id": "7f23c110",
   "metadata": {},
   "source": [
    "### **04-Comments**"
   ]
  },
  {
   "cell_type": "code",
   "execution_count": 5,
   "id": "f4b19b7d",
   "metadata": {},
   "outputs": [
    {
     "name": "stdout",
     "output_type": "stream",
     "text": [
      "how are you\n",
      "we are learning python with Aammar\n",
      "8\n"
     ]
    }
   ],
   "source": [
    "print(\"how are you\")                            #press these to comment our ctrl+/\n",
    "print(\"we are learning python with Aammar\")    # print a string\n",
    "print(2+6)                                     #print operators function with numners"
   ]
  },
  {
   "cell_type": "markdown",
   "id": "07da1c5f",
   "metadata": {},
   "source": [
    "### **05-Variables**"
   ]
  },
  {
   "cell_type": "markdown",
   "id": "142fde14",
   "metadata": {},
   "source": [
    "print_type_class\n",
    "\n",
    "Rules to assign a variable\n",
    "\n",
    "1- the variable should contain letters, numners or underscores\n",
    "\n",
    "2- do not start with numbers\n",
    "\n",
    "3- spaces are not allowed\n",
    "\n",
    "4-do not use keywords used in functions( break, mean, media, test etc.)\n",
    "\n",
    "5- short and descriptive\n",
    "\n",
    "6- case senstivity (lowercase , uppercase letters,lowercase letter should be used)"
   ]
  },
  {
   "cell_type": "code",
   "execution_count": 6,
   "id": "1d9dc923",
   "metadata": {},
   "outputs": [
    {
     "name": "stdout",
     "output_type": "stream",
     "text": [
      "5\n",
      "we are learning python with Aammar\n",
      "15\n",
      "<class 'int'>\n",
      "Mangoes, Oranges\n",
      "<class 'str'>\n"
     ]
    }
   ],
   "source": [
    "#variables: objects containing specific values\n",
    "x=5  #numeric or integer variable\n",
    "print(x)\n",
    "\n",
    "y=\"we are learning python with Aammar\"   # string variable\n",
    "print(y)\n",
    "\n",
    "x=x+10   #n or x=15\n",
    "print(x)\n",
    "\n",
    "#types of variables\n",
    "type(x)\n",
    "print(type(x))\n",
    "\n",
    "\n",
    "fruit_basket=\"Mangoes, Oranges\"\n",
    "print(fruit_basket)\n",
    "\n",
    "print(type(fruit_basket))"
   ]
  },
  {
   "cell_type": "markdown",
   "id": "4885bf3a",
   "metadata": {},
   "source": [
    "### **06-Input variables**"
   ]
  },
  {
   "cell_type": "code",
   "execution_count": 7,
   "id": "5c64f131",
   "metadata": {},
   "outputs": [
    {
     "name": "stdout",
     "output_type": "stream",
     "text": [
      "Mangoes\n",
      "what is your favourite fruit  ?mangoe\n",
      "mangoe\n",
      "what is your name?  Tanveer\n",
      "Hello! Tanveer\n",
      "what is your name?  Tanveer\n",
      "Hello! Tanveer\n",
      "what is your name?  Tanveer\n",
      "How old are you?  32\n",
      "Hello! Tanveer you are still young\n"
     ]
    }
   ],
   "source": [
    "fruit_basket=\"Mangoes\"\n",
    "print(fruit_basket)\n",
    "\n",
    "#input function\n",
    "fruit_basket=input(\"what is your favourite fruit  ?\")\n",
    "print(fruit_basket)\n",
    "\n",
    "#input function of 2nd stage\n",
    "name=input(\"what is your name?  \")\n",
    "greetings=\"Hello!\"\n",
    "print(greetings,name)\n",
    "\n",
    "#another function of stage 2 input function\n",
    "name=input(\"what is your name?  \")\n",
    "\n",
    "print(\"Hello!\",name)\n",
    "\n",
    "#3rd stage input function\n",
    "\n",
    "name=input(\"what is your name?  \")\n",
    "age=input(\"How old are you?  \")\n",
    "greetings=\"Hello!\"\n",
    "print(greetings,name,\"you are still young\")"
   ]
  },
  {
   "cell_type": "markdown",
   "id": "3098a27b",
   "metadata": {},
   "source": [
    "### **07-Conditional logics**"
   ]
  },
  {
   "cell_type": "code",
   "execution_count": 8,
   "id": "0b0a4dd7",
   "metadata": {},
   "outputs": [
    {
     "name": "stdout",
     "output_type": "stream",
     "text": [
      "True\n",
      "False\n",
      "True\n",
      "True\n",
      "False\n",
      "how old is hammad?  4\n",
      "<class 'int'>\n",
      "False\n"
     ]
    }
   ],
   "source": [
    "#logical operators are either \"true or false\" or \"yes or no\",\"0 or 1\"\n",
    "# equal to                      =\n",
    "#not equal to                  !=\n",
    "#less than                      <\n",
    "#greater than                   >\n",
    "#less than and equal to        <=\n",
    "#greater than and equal to     >=\n",
    "\n",
    "#is 4 equal to 4?\n",
    "print(4==4)\n",
    "\n",
    "print (4!=4)\n",
    "print(4>3)\n",
    "print(3<6)\n",
    "\n",
    "#application of logical operators\n",
    "hammad_age=4\n",
    "age_at_school=5\n",
    "print(hammad_age==age_at_school)\n",
    "\n",
    "#input operator and logicals operator\n",
    "age_at_school=5\n",
    "hammad_age=input(\"how old is hammad?  \")  #input function\n",
    "hammad_age=int(hammad_age)\n",
    "print(type(hammad_age))\n",
    "print(hammad_age==age_at_school)   #logical operator"
   ]
  },
  {
   "cell_type": "markdown",
   "id": "ee65ccbd",
   "metadata": {},
   "source": [
    "### **08-Type conversion**"
   ]
  },
  {
   "cell_type": "code",
   "execution_count": 9,
   "id": "748489c4",
   "metadata": {},
   "outputs": [
    {
     "name": "stdout",
     "output_type": "stream",
     "text": [
      "<class 'int'>\n",
      "<class 'float'>\n",
      "<class 'str'>\n",
      "10 <class 'int'>\n",
      "10 type of x is: <class 'int'>\n",
      "what is your age?  32\n",
      "<class 'int'>\n",
      "waht is your name?  Tanveer\n",
      "Tanveer <class 'str'>\n"
     ]
    }
   ],
   "source": [
    "x=10    #integer\n",
    "y=10.2  # float\n",
    "z=\"Hello\"   #string\n",
    "\n",
    "print(type(x))\n",
    "print(type(y))\n",
    "print(type(z))\n",
    "\n",
    "print(x,type(x))\n",
    "\n",
    "print(x,\"type of x is:\" ,type(x))\n",
    "\n",
    "#explicit function\n",
    "age=input(\"what is your age?  \")\n",
    "age=int(age)\n",
    "print(type(age))\n",
    "\n",
    "#name\n",
    "name=input(\"waht is your name?  \")\n",
    "print(name, type(str(name)))"
   ]
  },
  {
   "cell_type": "markdown",
   "id": "dbc4ccf8",
   "metadata": {},
   "source": [
    "### **09-If_ else _elif**"
   ]
  },
  {
   "cell_type": "code",
   "execution_count": 10,
   "id": "599185eb",
   "metadata": {},
   "outputs": [
    {
     "name": "stdout",
     "output_type": "stream",
     "text": [
      "hammad cannot go to school\n"
     ]
    }
   ],
   "source": [
    "hammad_age=4\n",
    "required_age_at_school=5\n",
    "#question: can hammad go to school?\n",
    "if hammad_age==required_age_at_school:\n",
    "    print(\"hammad can join the school\")\n",
    "else:\n",
    "    print(\"hammad cannot go to school\")"
   ]
  },
  {
   "cell_type": "code",
   "execution_count": 11,
   "id": "3b31c6a9",
   "metadata": {},
   "outputs": [
    {
     "name": "stdout",
     "output_type": "stream",
     "text": [
      "hammad should join higher secnodary school\n"
     ]
    }
   ],
   "source": [
    "hammad_age=10\n",
    "required_age_at_school=5\n",
    "#question: can hammad go to school?\n",
    "if hammad_age==required_age_at_school:\n",
    "    print(\"congratulations! hammad can join the school.\")\n",
    "elif hammad_age > required_age_at_school:\n",
    "    print(\"hammad should join higher secnodary school\")\n",
    "else:\n",
    "    print(\"hammad cannot go to school\")"
   ]
  },
  {
   "cell_type": "code",
   "execution_count": 12,
   "id": "a4a59781",
   "metadata": {},
   "outputs": [
    {
     "name": "stdout",
     "output_type": "stream",
     "text": [
      "hammad cannot go to school\n"
     ]
    }
   ],
   "source": [
    "hammad_age=3\n",
    "required_age_at_school=5\n",
    "#question: can hammad go to school?\n",
    "if hammad_age==required_age_at_school:\n",
    "    print(\"congratulations! hammad can join the school.\")\n",
    "elif hammad_age < required_age_at_school:\n",
    "    print(\"hammad cannot go to school\")\n",
    "else:\n",
    "    print(\"hammad should join higher secnodary school\")"
   ]
  },
  {
   "cell_type": "code",
   "execution_count": 13,
   "id": "5d17caf2",
   "metadata": {},
   "outputs": [
    {
     "name": "stdout",
     "output_type": "stream",
     "text": [
      "you should take care of hammad,he is still a baby!\n"
     ]
    }
   ],
   "source": [
    "hammad_age=2\n",
    "required_age_at_school=5\n",
    "#question: can hammad go to school?\n",
    "if hammad_age==required_age_at_school:\n",
    "    print(\"congratulations! hammad can join the school.\")\n",
    "elif hammad_age > required_age_at_school:\n",
    "    print(\"hammad cannot go to school\")\n",
    "elif hammad_age==2:\n",
    "    print(\"you should take care of hammad,he is still a baby!\")\n",
    "else:\n",
    "    print(\"hammad should join higher secnodary school\")"
   ]
  },
  {
   "cell_type": "markdown",
   "id": "0d7b05d7",
   "metadata": {},
   "source": [
    "### **10-Functions**"
   ]
  },
  {
   "cell_type": "code",
   "execution_count": 14,
   "id": "c982805a",
   "metadata": {},
   "outputs": [],
   "source": [
    "# defining a function"
   ]
  },
  {
   "cell_type": "code",
   "execution_count": 15,
   "id": "3af8d2ac",
   "metadata": {},
   "outputs": [
    {
     "name": "stdout",
     "output_type": "stream",
     "text": [
      "we are learning with Aammar\n",
      "we are learning with Aammar\n",
      "we are learning with Aammar\n"
     ]
    }
   ],
   "source": [
    "#defining a function\n",
    "#1 \n",
    "def print_codanics():\n",
    "    print(\"we are learning with Aammar\")\n",
    "    print(\"we are learning with Aammar\")\n",
    "    print(\"we are learning with Aammar\")\n",
    "print_codanics()\n"
   ]
  },
  {
   "cell_type": "code",
   "execution_count": 16,
   "id": "7e2dc731",
   "metadata": {},
   "outputs": [
    {
     "name": "stdout",
     "output_type": "stream",
     "text": [
      "we are learning with Aammar\n",
      "we are learning with Aammar\n",
      "we are learning with Aammar\n"
     ]
    }
   ],
   "source": [
    "#2\n",
    "def print_codanics():\n",
    "    text=\"we are learning with Aammar\"\n",
    "    print(text)\n",
    "    print(text)\n",
    "    print(text)\n",
    "print_codanics()"
   ]
  },
  {
   "cell_type": "code",
   "execution_count": 17,
   "id": "1bba12f3",
   "metadata": {},
   "outputs": [
    {
     "name": "stdout",
     "output_type": "stream",
     "text": [
      "we are learning python with Aammar in codanics youtube channel\n",
      "we are learning python with Aammar in codanics youtube channel\n",
      "we are learning python with Aammar in codanics youtube channel\n"
     ]
    }
   ],
   "source": [
    "# 3\n",
    "def print_codanics(text):\n",
    "    print(text)\n",
    "    print(text)\n",
    "    print(text)\n",
    "    \n",
    "print_codanics(\"we are learning python with Aammar in codanics youtube channel\")"
   ]
  },
  {
   "cell_type": "code",
   "execution_count": 18,
   "id": "a934369f",
   "metadata": {},
   "outputs": [
    {
     "name": "stdout",
     "output_type": "stream",
     "text": [
      "hammad should go to higher school\n"
     ]
    }
   ],
   "source": [
    "#defining a function with if, elif and else statements\n",
    "def school_calculator(age,text):\n",
    "    if age==5:\n",
    "        print(\"hammad can join the school\")\n",
    "    elif age>5:\n",
    "        print(\"hammad should go to higher school\")\n",
    "    else:\n",
    "        print(\"hammad is still a baby\")\n",
    "    \n",
    "school_calculator(age,\"hammad\")\n",
    "    "
   ]
  },
  {
   "cell_type": "code",
   "execution_count": 19,
   "id": "47eb841c",
   "metadata": {},
   "outputs": [
    {
     "name": "stdout",
     "output_type": "stream",
     "text": [
      "38\n"
     ]
    }
   ],
   "source": [
    "#defining a function of future\n",
    "def future_age(age):\n",
    "    new_age=age+20\n",
    "    return new_age\n",
    "    print(new_age)\n",
    "future_predicted_age=future_age(18)\n",
    "print(future_predicted_age)    \n"
   ]
  },
  {
   "cell_type": "markdown",
   "id": "19f4e879",
   "metadata": {},
   "source": [
    "### **11-loops**"
   ]
  },
  {
   "cell_type": "code",
   "execution_count": 20,
   "id": "2a8fefd2",
   "metadata": {},
   "outputs": [
    {
     "name": "stdout",
     "output_type": "stream",
     "text": [
      "0\n",
      "1\n",
      "2\n",
      "3\n",
      "4\n"
     ]
    }
   ],
   "source": [
    "#while and for loops\n",
    "# while loops\n",
    "x=0\n",
    "while(x<5):\n",
    "    print(x)\n",
    "    x=x+1"
   ]
  },
  {
   "cell_type": "code",
   "execution_count": 25,
   "id": "c48cd382",
   "metadata": {},
   "outputs": [
    {
     "name": "stdout",
     "output_type": "stream",
     "text": [
      "5\n",
      "6\n",
      "7\n",
      "8\n",
      "9\n"
     ]
    }
   ],
   "source": [
    "#for loops\n",
    "for x in range(5,10):\n",
    "    print(x)"
   ]
  },
  {
   "cell_type": "code",
   "execution_count": 26,
   "id": "b1d347ac",
   "metadata": {},
   "outputs": [
    {
     "name": "stdout",
     "output_type": "stream",
     "text": [
      "mon\n",
      "tue\n",
      "wed\n",
      "thu\n",
      "fri\n",
      "sat\n",
      "sun\n"
     ]
    }
   ],
   "source": [
    "#array\n",
    "days=[\"mon\",\"tue\",\"wed\",\"thu\",\"fri\",\"sat\",\"sun\"]\n",
    "for d in days:\n",
    "    print(d)"
   ]
  },
  {
   "cell_type": "code",
   "execution_count": 28,
   "id": "45915198",
   "metadata": {},
   "outputs": [
    {
     "name": "stdout",
     "output_type": "stream",
     "text": [
      "mon\n",
      "tue\n",
      "wed\n",
      "thu\n"
     ]
    }
   ],
   "source": [
    "days=[\"mon\",\"tue\",\"wed\",\"thu\",\"fri\",\"sat\",\"sun\"]\n",
    "for d in days:\n",
    "    if(d==\"fri\"):break   # loops stops\n",
    "    print(d)"
   ]
  },
  {
   "cell_type": "code",
   "execution_count": 29,
   "id": "2fb2c5c4",
   "metadata": {},
   "outputs": [
    {
     "name": "stdout",
     "output_type": "stream",
     "text": [
      "mon\n",
      "tue\n",
      "wed\n",
      "thu\n",
      "sat\n",
      "sun\n"
     ]
    }
   ],
   "source": [
    "days=[\"mon\",\"tue\",\"wed\",\"thu\",\"fri\",\"sat\",\"sun\"]\n",
    "for d in days:\n",
    "    if (d==\"fri\"):continue   # skips d\n",
    "    print(d)"
   ]
  },
  {
   "cell_type": "markdown",
   "id": "b726aca1",
   "metadata": {},
   "source": [
    "### **12-import libraries**"
   ]
  },
  {
   "cell_type": "code",
   "execution_count": 30,
   "id": "83d24a55",
   "metadata": {},
   "outputs": [
    {
     "name": "stdout",
     "output_type": "stream",
     "text": [
      "the value of pi is  3.141592653589793\n"
     ]
    }
   ],
   "source": [
    "# if you want ot print the value of pi\n",
    "import math\n",
    "print(\"the value of pi is \", math.pi)\n"
   ]
  },
  {
   "cell_type": "code",
   "execution_count": 31,
   "id": "2537e706",
   "metadata": {},
   "outputs": [
    {
     "name": "stdout",
     "output_type": "stream",
     "text": [
      "300\n"
     ]
    }
   ],
   "source": [
    "import statistics\n",
    "x=[150,250,350,450]\n",
    "print(statistics.mean(x))"
   ]
  },
  {
   "cell_type": "code",
   "execution_count": null,
   "id": "7174aa85",
   "metadata": {},
   "outputs": [],
   "source": [
    "#numpy,pandas"
   ]
  },
  {
   "cell_type": "code",
   "execution_count": null,
   "id": "77f4e461",
   "metadata": {},
   "outputs": [],
   "source": [
    "### **13-trouble shooting"
   ]
  },
  {
   "cell_type": "code",
   "execution_count": 32,
   "id": "aa173b9d",
   "metadata": {},
   "outputs": [
    {
     "ename": "SyntaxError",
     "evalue": "invalid syntax (Temp/ipykernel_10768/2306876815.py, line 1)",
     "output_type": "error",
     "traceback": [
      "\u001b[1;36m  File \u001b[1;32m\"C:\\Users\\92332\\AppData\\Local\\Temp/ipykernel_10768/2306876815.py\"\u001b[1;36m, line \u001b[1;32m1\u001b[0m\n\u001b[1;33m    print(we are learning python with aammar)\u001b[0m\n\u001b[1;37m             ^\u001b[0m\n\u001b[1;31mSyntaxError\u001b[0m\u001b[1;31m:\u001b[0m invalid syntax\n"
     ]
    }
   ],
   "source": [
    "print(we are learning python with aammar)   # syntax error"
   ]
  },
  {
   "cell_type": "code",
   "execution_count": 33,
   "id": "c6281c4f",
   "metadata": {},
   "outputs": [
    {
     "ename": "ZeroDivisionError",
     "evalue": "division by zero",
     "output_type": "error",
     "traceback": [
      "\u001b[1;31m---------------------------------------------------------------------------\u001b[0m",
      "\u001b[1;31mZeroDivisionError\u001b[0m                         Traceback (most recent call last)",
      "\u001b[1;32m~\\AppData\\Local\\Temp/ipykernel_10768/2870804441.py\u001b[0m in \u001b[0;36m<module>\u001b[1;34m\u001b[0m\n\u001b[1;32m----> 1\u001b[1;33m \u001b[0mprint\u001b[0m\u001b[1;33m(\u001b[0m\u001b[1;36m25\u001b[0m\u001b[1;33m/\u001b[0m\u001b[1;36m0\u001b[0m\u001b[1;33m)\u001b[0m\u001b[1;33m\u001b[0m\u001b[1;33m\u001b[0m\u001b[0m\n\u001b[0m",
      "\u001b[1;31mZeroDivisionError\u001b[0m: division by zero"
     ]
    }
   ],
   "source": [
    "print(25/0)   # runtime error"
   ]
  },
  {
   "cell_type": "code",
   "execution_count": 34,
   "id": "71f68099",
   "metadata": {},
   "outputs": [
    {
     "ename": "TypeError",
     "evalue": "unsupported operand type(s) for -: 'str' and 'str'",
     "output_type": "error",
     "traceback": [
      "\u001b[1;31m---------------------------------------------------------------------------\u001b[0m",
      "\u001b[1;31mTypeError\u001b[0m                                 Traceback (most recent call last)",
      "\u001b[1;32m~\\AppData\\Local\\Temp/ipykernel_10768/3487219045.py\u001b[0m in \u001b[0;36m<module>\u001b[1;34m\u001b[0m\n\u001b[1;32m----> 1\u001b[1;33m \u001b[0mname\u001b[0m\u001b[1;33m-\u001b[0m\u001b[1;34m\"Aammar\"\u001b[0m\u001b[1;33m\u001b[0m\u001b[1;33m\u001b[0m\u001b[0m\n\u001b[0m\u001b[0;32m      2\u001b[0m \u001b[0mprint\u001b[0m\u001b[1;33m(\u001b[0m\u001b[1;34m\"Hello name\"\u001b[0m\u001b[1;33m)\u001b[0m\u001b[1;33m\u001b[0m\u001b[1;33m\u001b[0m\u001b[0m\n",
      "\u001b[1;31mTypeError\u001b[0m: unsupported operand type(s) for -: 'str' and 'str'"
     ]
    }
   ],
   "source": [
    "name-\"Aammar\"\n",
    "print(\"Hello name\")   #symentic error"
   ]
  },
  {
   "cell_type": "code",
   "execution_count": 35,
   "id": "bd539381",
   "metadata": {},
   "outputs": [
    {
     "name": "stdout",
     "output_type": "stream",
     "text": [
      "Hello Aammar\n"
     ]
    }
   ],
   "source": [
    "name=\"Aammar\"\n",
    "print(\"Hello\",name)"
   ]
  },
  {
   "cell_type": "code",
   "execution_count": null,
   "id": "fd93e7b2",
   "metadata": {},
   "outputs": [],
   "source": []
  },
  {
   "cell_type": "markdown",
   "id": "082c59d0",
   "metadata": {},
   "source": [
    "# **Indexing**"
   ]
  },
  {
   "cell_type": "code",
   "execution_count": 36,
   "id": "4dd73b97",
   "metadata": {},
   "outputs": [
    {
     "data": {
      "text/plain": [
       "'samaosa Pkorra'"
      ]
     },
     "execution_count": 36,
     "metadata": {},
     "output_type": "execute_result"
    }
   ],
   "source": [
    "#make a string\n",
    "a=\"samaosa Pkorra\"\n",
    "a"
   ]
  },
  {
   "cell_type": "code",
   "execution_count": 37,
   "id": "d8e797ab",
   "metadata": {},
   "outputs": [
    {
     "data": {
      "text/plain": [
       "'samaosa Pkorra'"
      ]
     },
     "execution_count": 37,
     "metadata": {},
     "output_type": "execute_result"
    }
   ],
   "source": [
    "a"
   ]
  },
  {
   "cell_type": "code",
   "execution_count": 38,
   "id": "4244c214",
   "metadata": {},
   "outputs": [
    {
     "data": {
      "text/plain": [
       "'s'"
      ]
     },
     "execution_count": 38,
     "metadata": {},
     "output_type": "execute_result"
    }
   ],
   "source": [
    "a[0]"
   ]
  },
  {
   "cell_type": "code",
   "execution_count": 39,
   "id": "3a0ce275",
   "metadata": {},
   "outputs": [
    {
     "data": {
      "text/plain": [
       "'a'"
      ]
     },
     "execution_count": 39,
     "metadata": {},
     "output_type": "execute_result"
    }
   ],
   "source": [
    "a[1]"
   ]
  },
  {
   "cell_type": "code",
   "execution_count": 40,
   "id": "81dec769",
   "metadata": {},
   "outputs": [
    {
     "data": {
      "text/plain": [
       "14"
      ]
     },
     "execution_count": 40,
     "metadata": {},
     "output_type": "execute_result"
    }
   ],
   "source": [
    "#length of indeces\n",
    "len(a)"
   ]
  },
  {
   "cell_type": "code",
   "execution_count": 41,
   "id": "339a72b4",
   "metadata": {},
   "outputs": [
    {
     "data": {
      "text/plain": [
       "'samao'"
      ]
     },
     "execution_count": 41,
     "metadata": {},
     "output_type": "execute_result"
    }
   ],
   "source": [
    "a[0:5]"
   ]
  },
  {
   "cell_type": "code",
   "execution_count": 42,
   "id": "7f1fedb9",
   "metadata": {},
   "outputs": [
    {
     "data": {
      "text/plain": [
       "'samaos'"
      ]
     },
     "execution_count": 42,
     "metadata": {},
     "output_type": "execute_result"
    }
   ],
   "source": [
    "#last index is exclusive\n",
    "a[0:6]"
   ]
  },
  {
   "cell_type": "code",
   "execution_count": 43,
   "id": "26577056",
   "metadata": {},
   "outputs": [
    {
     "data": {
      "text/plain": [
       "''"
      ]
     },
     "execution_count": 43,
     "metadata": {},
     "output_type": "execute_result"
    }
   ],
   "source": [
    "a[-1:-6]"
   ]
  },
  {
   "cell_type": "code",
   "execution_count": 44,
   "id": "d8bbf67f",
   "metadata": {},
   "outputs": [
    {
     "data": {
      "text/plain": [
       "'Pkorr'"
      ]
     },
     "execution_count": 44,
     "metadata": {},
     "output_type": "execute_result"
    }
   ],
   "source": [
    "a[-6:-1]"
   ]
  },
  {
   "cell_type": "code",
   "execution_count": 45,
   "id": "60b2ab8e",
   "metadata": {},
   "outputs": [
    {
     "data": {
      "text/plain": [
       "'Pkorr'"
      ]
     },
     "execution_count": 45,
     "metadata": {},
     "output_type": "execute_result"
    }
   ],
   "source": [
    "a[-6:13]"
   ]
  },
  {
   "cell_type": "code",
   "execution_count": 47,
   "id": "0481c11a",
   "metadata": {},
   "outputs": [
    {
     "data": {
      "text/plain": [
       "'biryani'"
      ]
     },
     "execution_count": 47,
     "metadata": {},
     "output_type": "execute_result"
    }
   ],
   "source": [
    "food=\"biryani\"\n",
    "food"
   ]
  },
  {
   "cell_type": "markdown",
   "id": "1ed2f075",
   "metadata": {},
   "source": []
  },
  {
   "cell_type": "code",
   "execution_count": null,
   "id": "0126c90b",
   "metadata": {},
   "outputs": [],
   "source": []
  },
  {
   "cell_type": "code",
   "execution_count": null,
   "id": "fdcff7d0",
   "metadata": {},
   "outputs": [],
   "source": []
  },
  {
   "cell_type": "code",
   "execution_count": null,
   "id": "182b52d6",
   "metadata": {},
   "outputs": [],
   "source": []
  },
  {
   "cell_type": "code",
   "execution_count": null,
   "id": "b3ab7a8d",
   "metadata": {},
   "outputs": [],
   "source": []
  },
  {
   "cell_type": "code",
   "execution_count": null,
   "id": "688bd518",
   "metadata": {},
   "outputs": [],
   "source": []
  },
  {
   "cell_type": "code",
   "execution_count": null,
   "id": "55ee1f10",
   "metadata": {},
   "outputs": [],
   "source": []
  },
  {
   "cell_type": "code",
   "execution_count": null,
   "id": "cd77bdff",
   "metadata": {},
   "outputs": [],
   "source": []
  },
  {
   "cell_type": "code",
   "execution_count": null,
   "id": "bec18555",
   "metadata": {},
   "outputs": [],
   "source": []
  },
  {
   "cell_type": "code",
   "execution_count": null,
   "id": "f622de2d",
   "metadata": {},
   "outputs": [],
   "source": []
  },
  {
   "cell_type": "code",
   "execution_count": null,
   "id": "8ab3864a",
   "metadata": {},
   "outputs": [],
   "source": []
  },
  {
   "cell_type": "code",
   "execution_count": null,
   "id": "10c62193",
   "metadata": {},
   "outputs": [],
   "source": []
  },
  {
   "cell_type": "code",
   "execution_count": null,
   "id": "8b6ad5e1",
   "metadata": {},
   "outputs": [],
   "source": []
  },
  {
   "cell_type": "code",
   "execution_count": null,
   "id": "f6abb3d3",
   "metadata": {},
   "outputs": [],
   "source": []
  },
  {
   "cell_type": "code",
   "execution_count": null,
   "id": "92a7f5ed",
   "metadata": {},
   "outputs": [],
   "source": []
  },
  {
   "cell_type": "code",
   "execution_count": null,
   "id": "0ddc67d4",
   "metadata": {},
   "outputs": [],
   "source": []
  },
  {
   "cell_type": "code",
   "execution_count": null,
   "id": "42ead1d9",
   "metadata": {},
   "outputs": [],
   "source": []
  },
  {
   "cell_type": "code",
   "execution_count": null,
   "id": "6d227dc6",
   "metadata": {},
   "outputs": [],
   "source": []
  },
  {
   "cell_type": "code",
   "execution_count": null,
   "id": "85e9d753",
   "metadata": {},
   "outputs": [],
   "source": []
  },
  {
   "cell_type": "code",
   "execution_count": null,
   "id": "ba25d6d2",
   "metadata": {},
   "outputs": [],
   "source": []
  },
  {
   "cell_type": "code",
   "execution_count": null,
   "id": "6d33a70e",
   "metadata": {},
   "outputs": [],
   "source": []
  },
  {
   "cell_type": "code",
   "execution_count": null,
   "id": "3ea02980",
   "metadata": {},
   "outputs": [],
   "source": []
  },
  {
   "cell_type": "code",
   "execution_count": null,
   "id": "682ef1c4",
   "metadata": {},
   "outputs": [],
   "source": []
  },
  {
   "cell_type": "code",
   "execution_count": null,
   "id": "f8e72b92",
   "metadata": {},
   "outputs": [],
   "source": []
  },
  {
   "cell_type": "code",
   "execution_count": null,
   "id": "c17af4e4",
   "metadata": {},
   "outputs": [],
   "source": []
  },
  {
   "cell_type": "code",
   "execution_count": null,
   "id": "03ae246b",
   "metadata": {},
   "outputs": [],
   "source": []
  },
  {
   "cell_type": "code",
   "execution_count": null,
   "id": "2f36999a",
   "metadata": {},
   "outputs": [],
   "source": []
  },
  {
   "cell_type": "code",
   "execution_count": null,
   "id": "49a3ea27",
   "metadata": {},
   "outputs": [],
   "source": []
  },
  {
   "cell_type": "code",
   "execution_count": null,
   "id": "796479da",
   "metadata": {},
   "outputs": [],
   "source": []
  },
  {
   "cell_type": "code",
   "execution_count": null,
   "id": "c37cfb59",
   "metadata": {},
   "outputs": [],
   "source": []
  },
  {
   "cell_type": "code",
   "execution_count": null,
   "id": "11f308fb",
   "metadata": {},
   "outputs": [],
   "source": []
  },
  {
   "cell_type": "code",
   "execution_count": null,
   "id": "c27a0149",
   "metadata": {},
   "outputs": [],
   "source": []
  },
  {
   "cell_type": "code",
   "execution_count": null,
   "id": "a115a48b",
   "metadata": {},
   "outputs": [],
   "source": []
  },
  {
   "cell_type": "code",
   "execution_count": null,
   "id": "b9a63ab5",
   "metadata": {},
   "outputs": [],
   "source": []
  },
  {
   "cell_type": "code",
   "execution_count": null,
   "id": "093df01c",
   "metadata": {},
   "outputs": [],
   "source": []
  },
  {
   "cell_type": "code",
   "execution_count": null,
   "id": "9875baf4",
   "metadata": {},
   "outputs": [],
   "source": []
  },
  {
   "cell_type": "code",
   "execution_count": null,
   "id": "4660f06e",
   "metadata": {},
   "outputs": [],
   "source": []
  },
  {
   "cell_type": "code",
   "execution_count": null,
   "id": "27c1c3c4",
   "metadata": {},
   "outputs": [],
   "source": []
  },
  {
   "cell_type": "code",
   "execution_count": null,
   "id": "88f30ca9",
   "metadata": {},
   "outputs": [],
   "source": []
  },
  {
   "cell_type": "code",
   "execution_count": null,
   "id": "5d960ba3",
   "metadata": {},
   "outputs": [],
   "source": []
  },
  {
   "cell_type": "code",
   "execution_count": null,
   "id": "198b6972",
   "metadata": {},
   "outputs": [],
   "source": []
  },
  {
   "cell_type": "code",
   "execution_count": null,
   "id": "eb1c2f26",
   "metadata": {},
   "outputs": [],
   "source": []
  },
  {
   "cell_type": "code",
   "execution_count": null,
   "id": "726c2d6d",
   "metadata": {},
   "outputs": [],
   "source": []
  },
  {
   "cell_type": "code",
   "execution_count": null,
   "id": "50a33c0e",
   "metadata": {},
   "outputs": [],
   "source": []
  },
  {
   "cell_type": "code",
   "execution_count": null,
   "id": "fc7f7197",
   "metadata": {},
   "outputs": [],
   "source": []
  },
  {
   "cell_type": "code",
   "execution_count": null,
   "id": "5dc56213",
   "metadata": {},
   "outputs": [],
   "source": []
  },
  {
   "cell_type": "code",
   "execution_count": null,
   "id": "51bafac1",
   "metadata": {},
   "outputs": [],
   "source": []
  },
  {
   "cell_type": "code",
   "execution_count": null,
   "id": "8076334f",
   "metadata": {},
   "outputs": [],
   "source": []
  },
  {
   "cell_type": "code",
   "execution_count": null,
   "id": "53e7be7f",
   "metadata": {},
   "outputs": [],
   "source": []
  },
  {
   "cell_type": "code",
   "execution_count": null,
   "id": "8687cb40",
   "metadata": {},
   "outputs": [],
   "source": []
  },
  {
   "cell_type": "code",
   "execution_count": null,
   "id": "bcce04fb",
   "metadata": {},
   "outputs": [],
   "source": []
  },
  {
   "cell_type": "code",
   "execution_count": null,
   "id": "9a2ee5ed",
   "metadata": {},
   "outputs": [],
   "source": []
  },
  {
   "cell_type": "code",
   "execution_count": null,
   "id": "2b3c26dc",
   "metadata": {},
   "outputs": [],
   "source": []
  },
  {
   "cell_type": "code",
   "execution_count": null,
   "id": "a822c049",
   "metadata": {},
   "outputs": [],
   "source": []
  },
  {
   "cell_type": "code",
   "execution_count": null,
   "id": "c02f4c77",
   "metadata": {},
   "outputs": [],
   "source": []
  },
  {
   "cell_type": "code",
   "execution_count": null,
   "id": "b6828a0a",
   "metadata": {},
   "outputs": [],
   "source": []
  },
  {
   "cell_type": "code",
   "execution_count": null,
   "id": "8491e672",
   "metadata": {},
   "outputs": [],
   "source": []
  },
  {
   "cell_type": "code",
   "execution_count": null,
   "id": "34611038",
   "metadata": {},
   "outputs": [],
   "source": []
  },
  {
   "cell_type": "code",
   "execution_count": null,
   "id": "cece0ebf",
   "metadata": {},
   "outputs": [],
   "source": []
  },
  {
   "cell_type": "code",
   "execution_count": null,
   "id": "f8aa59dc",
   "metadata": {},
   "outputs": [],
   "source": []
  },
  {
   "cell_type": "code",
   "execution_count": null,
   "id": "9784da46",
   "metadata": {},
   "outputs": [],
   "source": []
  },
  {
   "cell_type": "code",
   "execution_count": null,
   "id": "5df09db9",
   "metadata": {},
   "outputs": [],
   "source": []
  },
  {
   "cell_type": "code",
   "execution_count": null,
   "id": "326d120e",
   "metadata": {},
   "outputs": [],
   "source": []
  },
  {
   "cell_type": "code",
   "execution_count": null,
   "id": "72afe41e",
   "metadata": {},
   "outputs": [],
   "source": []
  },
  {
   "cell_type": "code",
   "execution_count": null,
   "id": "76b244c3",
   "metadata": {},
   "outputs": [],
   "source": []
  },
  {
   "cell_type": "code",
   "execution_count": null,
   "id": "1c0bc32f",
   "metadata": {},
   "outputs": [],
   "source": []
  },
  {
   "cell_type": "code",
   "execution_count": null,
   "id": "e92de2b0",
   "metadata": {},
   "outputs": [],
   "source": []
  },
  {
   "cell_type": "code",
   "execution_count": null,
   "id": "8cabf1b1",
   "metadata": {},
   "outputs": [],
   "source": []
  },
  {
   "cell_type": "code",
   "execution_count": null,
   "id": "582910d7",
   "metadata": {},
   "outputs": [],
   "source": []
  },
  {
   "cell_type": "code",
   "execution_count": null,
   "id": "801e5bbf",
   "metadata": {},
   "outputs": [],
   "source": []
  },
  {
   "cell_type": "code",
   "execution_count": null,
   "id": "14627da5",
   "metadata": {},
   "outputs": [],
   "source": []
  },
  {
   "cell_type": "code",
   "execution_count": null,
   "id": "36b612da",
   "metadata": {},
   "outputs": [],
   "source": []
  },
  {
   "cell_type": "code",
   "execution_count": null,
   "id": "37edf5c6",
   "metadata": {},
   "outputs": [],
   "source": []
  },
  {
   "cell_type": "code",
   "execution_count": null,
   "id": "7b5a8d31",
   "metadata": {},
   "outputs": [],
   "source": []
  },
  {
   "cell_type": "code",
   "execution_count": null,
   "id": "87289b5b",
   "metadata": {},
   "outputs": [],
   "source": []
  },
  {
   "cell_type": "code",
   "execution_count": null,
   "id": "fb04736c",
   "metadata": {},
   "outputs": [],
   "source": []
  },
  {
   "cell_type": "code",
   "execution_count": null,
   "id": "84cefa39",
   "metadata": {},
   "outputs": [],
   "source": []
  },
  {
   "cell_type": "code",
   "execution_count": null,
   "id": "09a0e56a",
   "metadata": {},
   "outputs": [],
   "source": []
  },
  {
   "cell_type": "code",
   "execution_count": null,
   "id": "c94b2d3e",
   "metadata": {},
   "outputs": [],
   "source": []
  },
  {
   "cell_type": "code",
   "execution_count": null,
   "id": "53b31464",
   "metadata": {},
   "outputs": [],
   "source": []
  },
  {
   "cell_type": "code",
   "execution_count": null,
   "id": "4c362b17",
   "metadata": {},
   "outputs": [],
   "source": []
  },
  {
   "cell_type": "code",
   "execution_count": null,
   "id": "e4f042bc",
   "metadata": {},
   "outputs": [],
   "source": []
  },
  {
   "cell_type": "code",
   "execution_count": null,
   "id": "d96898d2",
   "metadata": {},
   "outputs": [],
   "source": []
  },
  {
   "cell_type": "code",
   "execution_count": null,
   "id": "0b697bea",
   "metadata": {},
   "outputs": [],
   "source": []
  },
  {
   "cell_type": "code",
   "execution_count": null,
   "id": "18ad8610",
   "metadata": {},
   "outputs": [],
   "source": []
  },
  {
   "cell_type": "code",
   "execution_count": null,
   "id": "2d65a134",
   "metadata": {},
   "outputs": [],
   "source": []
  },
  {
   "cell_type": "code",
   "execution_count": null,
   "id": "fd70865c",
   "metadata": {},
   "outputs": [],
   "source": []
  },
  {
   "cell_type": "code",
   "execution_count": null,
   "id": "f51eddf3",
   "metadata": {},
   "outputs": [],
   "source": []
  },
  {
   "cell_type": "code",
   "execution_count": null,
   "id": "781c921d",
   "metadata": {},
   "outputs": [],
   "source": []
  },
  {
   "cell_type": "code",
   "execution_count": null,
   "id": "bb860238",
   "metadata": {},
   "outputs": [],
   "source": []
  },
  {
   "cell_type": "code",
   "execution_count": null,
   "id": "f211ea28",
   "metadata": {},
   "outputs": [],
   "source": []
  },
  {
   "cell_type": "code",
   "execution_count": null,
   "id": "a8ccb90d",
   "metadata": {},
   "outputs": [],
   "source": []
  },
  {
   "cell_type": "code",
   "execution_count": null,
   "id": "5897f020",
   "metadata": {},
   "outputs": [],
   "source": []
  },
  {
   "cell_type": "code",
   "execution_count": null,
   "id": "50aca427",
   "metadata": {},
   "outputs": [],
   "source": []
  },
  {
   "cell_type": "code",
   "execution_count": null,
   "id": "e145cf6a",
   "metadata": {},
   "outputs": [],
   "source": []
  },
  {
   "cell_type": "code",
   "execution_count": null,
   "id": "17f7b516",
   "metadata": {},
   "outputs": [],
   "source": []
  },
  {
   "cell_type": "code",
   "execution_count": null,
   "id": "56555311",
   "metadata": {},
   "outputs": [],
   "source": []
  },
  {
   "cell_type": "code",
   "execution_count": null,
   "id": "da45c045",
   "metadata": {},
   "outputs": [],
   "source": []
  },
  {
   "cell_type": "code",
   "execution_count": null,
   "id": "b25bad97",
   "metadata": {},
   "outputs": [],
   "source": []
  },
  {
   "cell_type": "code",
   "execution_count": null,
   "id": "6b4885d7",
   "metadata": {},
   "outputs": [],
   "source": []
  },
  {
   "cell_type": "code",
   "execution_count": null,
   "id": "1488cfc5",
   "metadata": {},
   "outputs": [],
   "source": []
  },
  {
   "cell_type": "code",
   "execution_count": null,
   "id": "e126b1ec",
   "metadata": {},
   "outputs": [],
   "source": []
  },
  {
   "cell_type": "code",
   "execution_count": null,
   "id": "d6837fd6",
   "metadata": {},
   "outputs": [],
   "source": []
  },
  {
   "cell_type": "code",
   "execution_count": null,
   "id": "387abdcd",
   "metadata": {},
   "outputs": [],
   "source": []
  },
  {
   "cell_type": "code",
   "execution_count": null,
   "id": "e2691725",
   "metadata": {},
   "outputs": [],
   "source": []
  },
  {
   "cell_type": "code",
   "execution_count": null,
   "id": "d928faba",
   "metadata": {},
   "outputs": [],
   "source": []
  },
  {
   "cell_type": "code",
   "execution_count": null,
   "id": "6c2bd8ca",
   "metadata": {},
   "outputs": [],
   "source": []
  },
  {
   "cell_type": "code",
   "execution_count": null,
   "id": "bee44ab4",
   "metadata": {},
   "outputs": [],
   "source": []
  },
  {
   "cell_type": "code",
   "execution_count": null,
   "id": "717ebc27",
   "metadata": {},
   "outputs": [],
   "source": []
  },
  {
   "cell_type": "code",
   "execution_count": null,
   "id": "1ac3d2f9",
   "metadata": {},
   "outputs": [],
   "source": []
  },
  {
   "cell_type": "code",
   "execution_count": null,
   "id": "64ce1a2a",
   "metadata": {},
   "outputs": [],
   "source": []
  },
  {
   "cell_type": "code",
   "execution_count": null,
   "id": "297ef345",
   "metadata": {},
   "outputs": [],
   "source": []
  },
  {
   "cell_type": "code",
   "execution_count": null,
   "id": "7b7d7003",
   "metadata": {},
   "outputs": [],
   "source": []
  },
  {
   "cell_type": "code",
   "execution_count": null,
   "id": "5952a3a3",
   "metadata": {},
   "outputs": [],
   "source": []
  },
  {
   "cell_type": "code",
   "execution_count": null,
   "id": "a104e46a",
   "metadata": {},
   "outputs": [],
   "source": []
  },
  {
   "cell_type": "code",
   "execution_count": null,
   "id": "ff87f42e",
   "metadata": {},
   "outputs": [],
   "source": []
  },
  {
   "cell_type": "code",
   "execution_count": null,
   "id": "b82978a2",
   "metadata": {},
   "outputs": [],
   "source": []
  },
  {
   "cell_type": "code",
   "execution_count": null,
   "id": "1b5ebde8",
   "metadata": {},
   "outputs": [],
   "source": []
  },
  {
   "cell_type": "code",
   "execution_count": null,
   "id": "01c0a501",
   "metadata": {},
   "outputs": [],
   "source": []
  },
  {
   "cell_type": "code",
   "execution_count": null,
   "id": "a61dcc9e",
   "metadata": {},
   "outputs": [],
   "source": []
  },
  {
   "cell_type": "code",
   "execution_count": null,
   "id": "51cf0139",
   "metadata": {},
   "outputs": [],
   "source": []
  },
  {
   "cell_type": "code",
   "execution_count": null,
   "id": "8952bc94",
   "metadata": {},
   "outputs": [],
   "source": []
  },
  {
   "cell_type": "code",
   "execution_count": null,
   "id": "cbbd2101",
   "metadata": {},
   "outputs": [],
   "source": []
  },
  {
   "cell_type": "code",
   "execution_count": null,
   "id": "7102f91f",
   "metadata": {},
   "outputs": [],
   "source": []
  },
  {
   "cell_type": "code",
   "execution_count": null,
   "id": "ddf7bb99",
   "metadata": {},
   "outputs": [],
   "source": []
  },
  {
   "cell_type": "code",
   "execution_count": null,
   "id": "fe6fcc69",
   "metadata": {},
   "outputs": [],
   "source": []
  },
  {
   "cell_type": "code",
   "execution_count": null,
   "id": "aaf0df4f",
   "metadata": {},
   "outputs": [],
   "source": []
  },
  {
   "cell_type": "code",
   "execution_count": null,
   "id": "ac2b0793",
   "metadata": {},
   "outputs": [],
   "source": []
  },
  {
   "cell_type": "markdown",
   "id": "14f74293",
   "metadata": {},
   "source": [
    "## **Array**"
   ]
  },
  {
   "cell_type": "code",
   "execution_count": 21,
   "id": "358b2bb6",
   "metadata": {},
   "outputs": [
    {
     "data": {
      "text/plain": [
       "array([0, 1, 2, 3, 4, 5])"
      ]
     },
     "execution_count": 21,
     "metadata": {},
     "output_type": "execute_result"
    }
   ],
   "source": [
    "#with range of elements\n",
    "import numpy as np\n",
    "e= np.arange(6)\n",
    "e"
   ]
  },
  {
   "cell_type": "code",
   "execution_count": 22,
   "id": "090800a1",
   "metadata": {},
   "outputs": [
    {
     "data": {
      "text/plain": [
       "array([ 2,  3,  4,  5,  6,  7,  8,  9, 10, 11, 12, 13, 14, 15, 16, 17, 18,\n",
       "       19])"
      ]
     },
     "execution_count": 22,
     "metadata": {},
     "output_type": "execute_result"
    }
   ],
   "source": [
    "#with specific range of elements\n",
    "import numpy as np\n",
    "f=np.arange(2,20)\n",
    "f"
   ]
  },
  {
   "cell_type": "code",
   "execution_count": 23,
   "id": "855b8b93",
   "metadata": {},
   "outputs": [
    {
     "data": {
      "text/plain": [
       "array([ 2,  4,  6,  8, 10, 12, 14, 16, 18])"
      ]
     },
     "execution_count": 23,
     "metadata": {},
     "output_type": "execute_result"
    }
   ],
   "source": [
    "#continue...\n",
    "import numpy as np\n",
    "g=np.arange(2,20,2)\n",
    "g"
   ]
  },
  {
   "cell_type": "code",
   "execution_count": null,
   "id": "589a4a12",
   "metadata": {},
   "outputs": [],
   "source": []
  },
  {
   "cell_type": "code",
   "execution_count": 24,
   "id": "b414b962",
   "metadata": {},
   "outputs": [
    {
     "data": {
      "text/plain": [
       "array([ 0. ,  2.5,  5. ,  7.5, 10. ])"
      ]
     },
     "execution_count": 24,
     "metadata": {},
     "output_type": "execute_result"
    }
   ],
   "source": [
    "#linerly spaced arrays\n",
    "import numpy as np\n",
    "h=np.linspace(0,10,num=5)  #give us 5 nums\n",
    "h"
   ]
  }
 ],
 "metadata": {
  "kernelspec": {
   "display_name": "Python 3 (ipykernel)",
   "language": "python",
   "name": "python3"
  },
  "language_info": {
   "codemirror_mode": {
    "name": "ipython",
    "version": 3
   },
   "file_extension": ".py",
   "mimetype": "text/x-python",
   "name": "python",
   "nbconvert_exporter": "python",
   "pygments_lexer": "ipython3",
   "version": "3.9.7"
  }
 },
 "nbformat": 4,
 "nbformat_minor": 5
}
